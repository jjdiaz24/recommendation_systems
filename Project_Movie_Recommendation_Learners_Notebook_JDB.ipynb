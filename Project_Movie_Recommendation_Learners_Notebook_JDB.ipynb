{
  "cells": [
    {
      "cell_type": "markdown",
      "metadata": {
        "id": "Cf3GloRNvOOG"
      },
      "source": [
        "# **Project - Recommendation Systems: Movie Recommendations**\n",
        "\n",
        "## **Marks: 40**\n",
        "---------------\n",
        "## **Context**\n",
        "---------------\n",
        "\n",
        "Online streaming platforms like Netflix have plenty of movies in their repositories and if we can build a recommendation system to recommend relevant movies to users based on their historical interactions, this would improve customer satisfaction and hence improve revenue. The techniques that we will learn here will not only be limited to movies, it can be any item for which you want to build a recommendation system. For this case study, you can find the dataset [here](https://www.kaggle.com/rounakbanik/the-movies-dataset).\n",
        "\n",
        "-----------------\n",
        "## **Objective**\n",
        "-----------------\n",
        "\n",
        "In this project we will be building various recommendation systems: \n",
        "- Knowledge/Rank based recommendation system\n",
        "- Similarity-Based Collaborative filtering\n",
        "- Matrix Factorization Based Collaborative Filtering\n",
        "\n",
        "based on the **ratings** dataset\n",
        "\n",
        "-----------------\n",
        "## **Dataset**\n",
        "-----------------\n",
        "\n",
        "The **ratings** dataset contains the following attributes: \n",
        "- userId\n",
        "- movieId\n",
        "- rating\n",
        "- timestamp"
      ]
    },
    {
      "cell_type": "code",
      "execution_count": 3,
      "metadata": {
        "id": "FYrMMOH6sm8f",
        "colab": {
          "base_uri": "https://localhost:8080/"
        },
        "outputId": "482becea-9390-457d-b240-221a78d13e95"
      },
      "outputs": [
        {
          "output_type": "stream",
          "name": "stdout",
          "text": [
            "Mounted at /content/drive\n"
          ]
        }
      ],
      "source": [
        "#uncomment if you are using google colab\n",
        "\n",
        "from google.colab import drive\n",
        "drive.mount('/content/drive')"
      ]
    },
    {
      "cell_type": "markdown",
      "metadata": {
        "id": "9hczXgBkvOOG"
      },
      "source": [
        "### **Importing Libraries**"
      ]
    },
    {
      "cell_type": "code",
      "execution_count": 2,
      "metadata": {
        "id": "J1TItcxtwIAZ",
        "colab": {
          "base_uri": "https://localhost:8080/"
        },
        "outputId": "0f2aa026-2d89-4b0e-8d27-c8c213c573d5"
      },
      "outputs": [
        {
          "output_type": "stream",
          "name": "stdout",
          "text": [
            "Collecting surprise\n",
            "  Downloading surprise-0.1-py2.py3-none-any.whl (1.8 kB)\n",
            "Collecting scikit-surprise\n",
            "  Downloading scikit-surprise-1.1.1.tar.gz (11.8 MB)\n",
            "\u001b[K     |████████████████████████████████| 11.8 MB 3.8 MB/s \n",
            "\u001b[?25hRequirement already satisfied: joblib>=0.11 in /usr/local/lib/python3.7/dist-packages (from scikit-surprise->surprise) (1.1.0)\n",
            "Requirement already satisfied: numpy>=1.11.2 in /usr/local/lib/python3.7/dist-packages (from scikit-surprise->surprise) (1.21.5)\n",
            "Requirement already satisfied: scipy>=1.0.0 in /usr/local/lib/python3.7/dist-packages (from scikit-surprise->surprise) (1.4.1)\n",
            "Requirement already satisfied: six>=1.10.0 in /usr/local/lib/python3.7/dist-packages (from scikit-surprise->surprise) (1.15.0)\n",
            "Building wheels for collected packages: scikit-surprise\n",
            "  Building wheel for scikit-surprise (setup.py) ... \u001b[?25l\u001b[?25hdone\n",
            "  Created wheel for scikit-surprise: filename=scikit_surprise-1.1.1-cp37-cp37m-linux_x86_64.whl size=1630183 sha256=1be07489eb36a1995d71f34ef8e7a0eb83b815051caa44e3e794707426874067\n",
            "  Stored in directory: /root/.cache/pip/wheels/76/44/74/b498c42be47b2406bd27994e16c5188e337c657025ab400c1c\n",
            "Successfully built scikit-surprise\n",
            "Installing collected packages: scikit-surprise, surprise\n",
            "Successfully installed scikit-surprise-1.1.1 surprise-0.1\n"
          ]
        }
      ],
      "source": [
        "# installing surprise library, only do it for first time\n",
        "!pip install surprise"
      ]
    },
    {
      "cell_type": "code",
      "execution_count": 4,
      "metadata": {
        "id": "Gem2ozi_vOOG"
      },
      "outputs": [],
      "source": [
        "import warnings\n",
        "warnings.filterwarnings('ignore')\n",
        "\n",
        "import numpy as np\n",
        "import pandas as pd\n",
        "\n",
        "import matplotlib.pyplot as plt\n",
        "import seaborn as sns\n",
        "\n",
        "\n",
        "from surprise import accuracy\n",
        "\n",
        "# class is used to parse a file containing ratings, data should be in structure - user ; item ; rating\n",
        "from surprise.reader import Reader\n",
        "\n",
        "# class for loading datasets\n",
        "from surprise.dataset import Dataset\n",
        "\n",
        "# for model tuning model hyper-parameters\n",
        "from surprise.model_selection import GridSearchCV\n",
        "\n",
        "# for splitting the rating data in train and test dataset\n",
        "from surprise.model_selection import train_test_split\n",
        "\n",
        "# for implementing similarity based recommendation system\n",
        "from surprise.prediction_algorithms.knns import KNNBasic\n",
        "\n",
        "# for implementing matrix factorization based recommendation system\n",
        "from surprise.prediction_algorithms.matrix_factorization import SVD\n",
        "\n",
        "from collections import defaultdict\n",
        "\n",
        "# for implementing cross validation\n",
        "from surprise.model_selection import KFold"
      ]
    },
    {
      "cell_type": "markdown",
      "metadata": {
        "id": "ewHMWerQ2N9T"
      },
      "source": [
        "### **Loading the data**"
      ]
    },
    {
      "cell_type": "code",
      "execution_count": 5,
      "metadata": {
        "id": "EdQIx3OLvOOG"
      },
      "outputs": [],
      "source": [
        "rating = pd.read_csv('ratings.csv')"
      ]
    },
    {
      "cell_type": "markdown",
      "metadata": {
        "id": "WAW3gTmB2N9a"
      },
      "source": [
        "Let's check the **info** of the data"
      ]
    },
    {
      "cell_type": "code",
      "execution_count": 6,
      "metadata": {
        "colab": {
          "base_uri": "https://localhost:8080/"
        },
        "id": "8zF1K1hDvOOG",
        "outputId": "ed0393e6-ca04-4a24-90bd-785b0932bdee"
      },
      "outputs": [
        {
          "output_type": "stream",
          "name": "stdout",
          "text": [
            "<class 'pandas.core.frame.DataFrame'>\n",
            "RangeIndex: 100004 entries, 0 to 100003\n",
            "Data columns (total 4 columns):\n",
            " #   Column     Non-Null Count   Dtype  \n",
            "---  ------     --------------   -----  \n",
            " 0   userId     100004 non-null  int64  \n",
            " 1   movieId    100004 non-null  int64  \n",
            " 2   rating     100004 non-null  float64\n",
            " 3   timestamp  100004 non-null  int64  \n",
            "dtypes: float64(1), int64(3)\n",
            "memory usage: 3.1 MB\n"
          ]
        }
      ],
      "source": [
        "rating.info()"
      ]
    },
    {
      "cell_type": "markdown",
      "metadata": {
        "id": "202Ux9MH2N9f"
      },
      "source": [
        "- There are **1,00,004 observations** and **4 columns** in the data\n",
        "- All the columns are of **numeric data type**\n",
        "- The data type of the timestamp column is int64 which is not correct. We can convert this to DateTime format but **we don't need timestamp for our analysis**. Hence, **we can drop this column**"
      ]
    },
    {
      "cell_type": "code",
      "execution_count": 7,
      "metadata": {
        "id": "fltadjTcvOOH"
      },
      "outputs": [],
      "source": [
        "#Dropping timestamp column\n",
        "rating = rating.drop(['timestamp'], axis=1)"
      ]
    },
    {
      "cell_type": "markdown",
      "metadata": {
        "id": "mHOFHmoBwIAw"
      },
      "source": [
        "### **Question 1: Exploring the dataset  (7 Marks)**\n",
        "\n",
        "#### Q 1.1 Print the top 5 rows of the dataset. (1 Mark)"
      ]
    },
    {
      "cell_type": "markdown",
      "source": [
        "Q 1.1 Print the top 5 rows of the dataset and describe the dataset."
      ],
      "metadata": {
        "id": "bNpoPk5ox3LT"
      }
    },
    {
      "cell_type": "code",
      "execution_count": 8,
      "metadata": {
        "colab": {
          "base_uri": "https://localhost:8080/",
          "height": 206
        },
        "id": "1Q6gs-IO2N9i",
        "outputId": "86cda701-1945-4455-930a-ee14e008c9e7"
      },
      "outputs": [
        {
          "output_type": "execute_result",
          "data": {
            "text/html": [
              "\n",
              "  <div id=\"df-6dbe7e07-2d67-4e06-9672-cf9afa323522\">\n",
              "    <div class=\"colab-df-container\">\n",
              "      <div>\n",
              "<style scoped>\n",
              "    .dataframe tbody tr th:only-of-type {\n",
              "        vertical-align: middle;\n",
              "    }\n",
              "\n",
              "    .dataframe tbody tr th {\n",
              "        vertical-align: top;\n",
              "    }\n",
              "\n",
              "    .dataframe thead th {\n",
              "        text-align: right;\n",
              "    }\n",
              "</style>\n",
              "<table border=\"1\" class=\"dataframe\">\n",
              "  <thead>\n",
              "    <tr style=\"text-align: right;\">\n",
              "      <th></th>\n",
              "      <th>userId</th>\n",
              "      <th>movieId</th>\n",
              "      <th>rating</th>\n",
              "    </tr>\n",
              "  </thead>\n",
              "  <tbody>\n",
              "    <tr>\n",
              "      <th>0</th>\n",
              "      <td>1</td>\n",
              "      <td>31</td>\n",
              "      <td>2.5</td>\n",
              "    </tr>\n",
              "    <tr>\n",
              "      <th>1</th>\n",
              "      <td>1</td>\n",
              "      <td>1029</td>\n",
              "      <td>3.0</td>\n",
              "    </tr>\n",
              "    <tr>\n",
              "      <th>2</th>\n",
              "      <td>1</td>\n",
              "      <td>1061</td>\n",
              "      <td>3.0</td>\n",
              "    </tr>\n",
              "    <tr>\n",
              "      <th>3</th>\n",
              "      <td>1</td>\n",
              "      <td>1129</td>\n",
              "      <td>2.0</td>\n",
              "    </tr>\n",
              "    <tr>\n",
              "      <th>4</th>\n",
              "      <td>1</td>\n",
              "      <td>1172</td>\n",
              "      <td>4.0</td>\n",
              "    </tr>\n",
              "  </tbody>\n",
              "</table>\n",
              "</div>\n",
              "      <button class=\"colab-df-convert\" onclick=\"convertToInteractive('df-6dbe7e07-2d67-4e06-9672-cf9afa323522')\"\n",
              "              title=\"Convert this dataframe to an interactive table.\"\n",
              "              style=\"display:none;\">\n",
              "        \n",
              "  <svg xmlns=\"http://www.w3.org/2000/svg\" height=\"24px\"viewBox=\"0 0 24 24\"\n",
              "       width=\"24px\">\n",
              "    <path d=\"M0 0h24v24H0V0z\" fill=\"none\"/>\n",
              "    <path d=\"M18.56 5.44l.94 2.06.94-2.06 2.06-.94-2.06-.94-.94-2.06-.94 2.06-2.06.94zm-11 1L8.5 8.5l.94-2.06 2.06-.94-2.06-.94L8.5 2.5l-.94 2.06-2.06.94zm10 10l.94 2.06.94-2.06 2.06-.94-2.06-.94-.94-2.06-.94 2.06-2.06.94z\"/><path d=\"M17.41 7.96l-1.37-1.37c-.4-.4-.92-.59-1.43-.59-.52 0-1.04.2-1.43.59L10.3 9.45l-7.72 7.72c-.78.78-.78 2.05 0 2.83L4 21.41c.39.39.9.59 1.41.59.51 0 1.02-.2 1.41-.59l7.78-7.78 2.81-2.81c.8-.78.8-2.07 0-2.86zM5.41 20L4 18.59l7.72-7.72 1.47 1.35L5.41 20z\"/>\n",
              "  </svg>\n",
              "      </button>\n",
              "      \n",
              "  <style>\n",
              "    .colab-df-container {\n",
              "      display:flex;\n",
              "      flex-wrap:wrap;\n",
              "      gap: 12px;\n",
              "    }\n",
              "\n",
              "    .colab-df-convert {\n",
              "      background-color: #E8F0FE;\n",
              "      border: none;\n",
              "      border-radius: 50%;\n",
              "      cursor: pointer;\n",
              "      display: none;\n",
              "      fill: #1967D2;\n",
              "      height: 32px;\n",
              "      padding: 0 0 0 0;\n",
              "      width: 32px;\n",
              "    }\n",
              "\n",
              "    .colab-df-convert:hover {\n",
              "      background-color: #E2EBFA;\n",
              "      box-shadow: 0px 1px 2px rgba(60, 64, 67, 0.3), 0px 1px 3px 1px rgba(60, 64, 67, 0.15);\n",
              "      fill: #174EA6;\n",
              "    }\n",
              "\n",
              "    [theme=dark] .colab-df-convert {\n",
              "      background-color: #3B4455;\n",
              "      fill: #D2E3FC;\n",
              "    }\n",
              "\n",
              "    [theme=dark] .colab-df-convert:hover {\n",
              "      background-color: #434B5C;\n",
              "      box-shadow: 0px 1px 3px 1px rgba(0, 0, 0, 0.15);\n",
              "      filter: drop-shadow(0px 1px 2px rgba(0, 0, 0, 0.3));\n",
              "      fill: #FFFFFF;\n",
              "    }\n",
              "  </style>\n",
              "\n",
              "      <script>\n",
              "        const buttonEl =\n",
              "          document.querySelector('#df-6dbe7e07-2d67-4e06-9672-cf9afa323522 button.colab-df-convert');\n",
              "        buttonEl.style.display =\n",
              "          google.colab.kernel.accessAllowed ? 'block' : 'none';\n",
              "\n",
              "        async function convertToInteractive(key) {\n",
              "          const element = document.querySelector('#df-6dbe7e07-2d67-4e06-9672-cf9afa323522');\n",
              "          const dataTable =\n",
              "            await google.colab.kernel.invokeFunction('convertToInteractive',\n",
              "                                                     [key], {});\n",
              "          if (!dataTable) return;\n",
              "\n",
              "          const docLinkHtml = 'Like what you see? Visit the ' +\n",
              "            '<a target=\"_blank\" href=https://colab.research.google.com/notebooks/data_table.ipynb>data table notebook</a>'\n",
              "            + ' to learn more about interactive tables.';\n",
              "          element.innerHTML = '';\n",
              "          dataTable['output_type'] = 'display_data';\n",
              "          await google.colab.output.renderOutput(dataTable, element);\n",
              "          const docLink = document.createElement('div');\n",
              "          docLink.innerHTML = docLinkHtml;\n",
              "          element.appendChild(docLink);\n",
              "        }\n",
              "      </script>\n",
              "    </div>\n",
              "  </div>\n",
              "  "
            ],
            "text/plain": [
              "   userId  movieId  rating\n",
              "0       1       31     2.5\n",
              "1       1     1029     3.0\n",
              "2       1     1061     3.0\n",
              "3       1     1129     2.0\n",
              "4       1     1172     4.0"
            ]
          },
          "metadata": {},
          "execution_count": 8
        }
      ],
      "source": [
        "#printing the top 5 rows of the dataset Hint use .head()\n",
        "\n",
        "#remove _______and complete the code\n",
        "rating.head()"
      ]
    },
    {
      "cell_type": "markdown",
      "source": [
        " Q 1.2 Describe the distribution of ratings."
      ],
      "metadata": {
        "id": "7-cbq_YGyCh4"
      }
    },
    {
      "cell_type": "code",
      "source": [
        "rating.describe()"
      ],
      "metadata": {
        "colab": {
          "base_uri": "https://localhost:8080/",
          "height": 300
        },
        "id": "qj2Ap4nDyFxr",
        "outputId": "2f85ad92-dba7-42af-9a1f-8490179c3ab6"
      },
      "execution_count": 11,
      "outputs": [
        {
          "output_type": "execute_result",
          "data": {
            "text/html": [
              "\n",
              "  <div id=\"df-4f68b4f7-5772-4006-a651-158e88b03faa\">\n",
              "    <div class=\"colab-df-container\">\n",
              "      <div>\n",
              "<style scoped>\n",
              "    .dataframe tbody tr th:only-of-type {\n",
              "        vertical-align: middle;\n",
              "    }\n",
              "\n",
              "    .dataframe tbody tr th {\n",
              "        vertical-align: top;\n",
              "    }\n",
              "\n",
              "    .dataframe thead th {\n",
              "        text-align: right;\n",
              "    }\n",
              "</style>\n",
              "<table border=\"1\" class=\"dataframe\">\n",
              "  <thead>\n",
              "    <tr style=\"text-align: right;\">\n",
              "      <th></th>\n",
              "      <th>userId</th>\n",
              "      <th>movieId</th>\n",
              "      <th>rating</th>\n",
              "    </tr>\n",
              "  </thead>\n",
              "  <tbody>\n",
              "    <tr>\n",
              "      <th>count</th>\n",
              "      <td>100004.000000</td>\n",
              "      <td>100004.000000</td>\n",
              "      <td>100004.000000</td>\n",
              "    </tr>\n",
              "    <tr>\n",
              "      <th>mean</th>\n",
              "      <td>347.011310</td>\n",
              "      <td>12548.664363</td>\n",
              "      <td>3.543608</td>\n",
              "    </tr>\n",
              "    <tr>\n",
              "      <th>std</th>\n",
              "      <td>195.163838</td>\n",
              "      <td>26369.198969</td>\n",
              "      <td>1.058064</td>\n",
              "    </tr>\n",
              "    <tr>\n",
              "      <th>min</th>\n",
              "      <td>1.000000</td>\n",
              "      <td>1.000000</td>\n",
              "      <td>0.500000</td>\n",
              "    </tr>\n",
              "    <tr>\n",
              "      <th>25%</th>\n",
              "      <td>182.000000</td>\n",
              "      <td>1028.000000</td>\n",
              "      <td>3.000000</td>\n",
              "    </tr>\n",
              "    <tr>\n",
              "      <th>50%</th>\n",
              "      <td>367.000000</td>\n",
              "      <td>2406.500000</td>\n",
              "      <td>4.000000</td>\n",
              "    </tr>\n",
              "    <tr>\n",
              "      <th>75%</th>\n",
              "      <td>520.000000</td>\n",
              "      <td>5418.000000</td>\n",
              "      <td>4.000000</td>\n",
              "    </tr>\n",
              "    <tr>\n",
              "      <th>max</th>\n",
              "      <td>671.000000</td>\n",
              "      <td>163949.000000</td>\n",
              "      <td>5.000000</td>\n",
              "    </tr>\n",
              "  </tbody>\n",
              "</table>\n",
              "</div>\n",
              "      <button class=\"colab-df-convert\" onclick=\"convertToInteractive('df-4f68b4f7-5772-4006-a651-158e88b03faa')\"\n",
              "              title=\"Convert this dataframe to an interactive table.\"\n",
              "              style=\"display:none;\">\n",
              "        \n",
              "  <svg xmlns=\"http://www.w3.org/2000/svg\" height=\"24px\"viewBox=\"0 0 24 24\"\n",
              "       width=\"24px\">\n",
              "    <path d=\"M0 0h24v24H0V0z\" fill=\"none\"/>\n",
              "    <path d=\"M18.56 5.44l.94 2.06.94-2.06 2.06-.94-2.06-.94-.94-2.06-.94 2.06-2.06.94zm-11 1L8.5 8.5l.94-2.06 2.06-.94-2.06-.94L8.5 2.5l-.94 2.06-2.06.94zm10 10l.94 2.06.94-2.06 2.06-.94-2.06-.94-.94-2.06-.94 2.06-2.06.94z\"/><path d=\"M17.41 7.96l-1.37-1.37c-.4-.4-.92-.59-1.43-.59-.52 0-1.04.2-1.43.59L10.3 9.45l-7.72 7.72c-.78.78-.78 2.05 0 2.83L4 21.41c.39.39.9.59 1.41.59.51 0 1.02-.2 1.41-.59l7.78-7.78 2.81-2.81c.8-.78.8-2.07 0-2.86zM5.41 20L4 18.59l7.72-7.72 1.47 1.35L5.41 20z\"/>\n",
              "  </svg>\n",
              "      </button>\n",
              "      \n",
              "  <style>\n",
              "    .colab-df-container {\n",
              "      display:flex;\n",
              "      flex-wrap:wrap;\n",
              "      gap: 12px;\n",
              "    }\n",
              "\n",
              "    .colab-df-convert {\n",
              "      background-color: #E8F0FE;\n",
              "      border: none;\n",
              "      border-radius: 50%;\n",
              "      cursor: pointer;\n",
              "      display: none;\n",
              "      fill: #1967D2;\n",
              "      height: 32px;\n",
              "      padding: 0 0 0 0;\n",
              "      width: 32px;\n",
              "    }\n",
              "\n",
              "    .colab-df-convert:hover {\n",
              "      background-color: #E2EBFA;\n",
              "      box-shadow: 0px 1px 2px rgba(60, 64, 67, 0.3), 0px 1px 3px 1px rgba(60, 64, 67, 0.15);\n",
              "      fill: #174EA6;\n",
              "    }\n",
              "\n",
              "    [theme=dark] .colab-df-convert {\n",
              "      background-color: #3B4455;\n",
              "      fill: #D2E3FC;\n",
              "    }\n",
              "\n",
              "    [theme=dark] .colab-df-convert:hover {\n",
              "      background-color: #434B5C;\n",
              "      box-shadow: 0px 1px 3px 1px rgba(0, 0, 0, 0.15);\n",
              "      filter: drop-shadow(0px 1px 2px rgba(0, 0, 0, 0.3));\n",
              "      fill: #FFFFFF;\n",
              "    }\n",
              "  </style>\n",
              "\n",
              "      <script>\n",
              "        const buttonEl =\n",
              "          document.querySelector('#df-4f68b4f7-5772-4006-a651-158e88b03faa button.colab-df-convert');\n",
              "        buttonEl.style.display =\n",
              "          google.colab.kernel.accessAllowed ? 'block' : 'none';\n",
              "\n",
              "        async function convertToInteractive(key) {\n",
              "          const element = document.querySelector('#df-4f68b4f7-5772-4006-a651-158e88b03faa');\n",
              "          const dataTable =\n",
              "            await google.colab.kernel.invokeFunction('convertToInteractive',\n",
              "                                                     [key], {});\n",
              "          if (!dataTable) return;\n",
              "\n",
              "          const docLinkHtml = 'Like what you see? Visit the ' +\n",
              "            '<a target=\"_blank\" href=https://colab.research.google.com/notebooks/data_table.ipynb>data table notebook</a>'\n",
              "            + ' to learn more about interactive tables.';\n",
              "          element.innerHTML = '';\n",
              "          dataTable['output_type'] = 'display_data';\n",
              "          await google.colab.output.renderOutput(dataTable, element);\n",
              "          const docLink = document.createElement('div');\n",
              "          docLink.innerHTML = docLinkHtml;\n",
              "          element.appendChild(docLink);\n",
              "        }\n",
              "      </script>\n",
              "    </div>\n",
              "  </div>\n",
              "  "
            ],
            "text/plain": [
              "              userId        movieId         rating\n",
              "count  100004.000000  100004.000000  100004.000000\n",
              "mean      347.011310   12548.664363       3.543608\n",
              "std       195.163838   26369.198969       1.058064\n",
              "min         1.000000       1.000000       0.500000\n",
              "25%       182.000000    1028.000000       3.000000\n",
              "50%       367.000000    2406.500000       4.000000\n",
              "75%       520.000000    5418.000000       4.000000\n",
              "max       671.000000  163949.000000       5.000000"
            ]
          },
          "metadata": {},
          "execution_count": 11
        }
      ]
    },
    {
      "cell_type": "markdown",
      "source": [
        ""
      ],
      "metadata": {
        "id": "8XNeewVrx9PL"
      }
    },
    {
      "cell_type": "code",
      "source": [
        "rating.userId.plot(kind=\"hist\")\n",
        "print(\"do not have a normal disbribution. } The average is 347\")"
      ],
      "metadata": {
        "colab": {
          "base_uri": "https://localhost:8080/",
          "height": 286
        },
        "id": "AHQ76hZOyNA-",
        "outputId": "8ac79b1f-c206-4bce-848e-31cd270d23c0"
      },
      "execution_count": 20,
      "outputs": [
        {
          "output_type": "stream",
          "name": "stdout",
          "text": [
            "do not have a normal disbribution. } The average is 347\n"
          ]
        },
        {
          "output_type": "display_data",
          "data": {
            "image/png": "[encoded data removed]",
            "text/plain": [
              "<Figure size 432x288 with 1 Axes>"
            ]
          },
          "metadata": {
            "needs_background": "light"
          }
        }
      ]
    },
    {
      "cell_type": "code",
      "source": [
        "rating.movieId.plot(kind=\"hist\")"
      ],
      "metadata": {
        "colab": {
          "base_uri": "https://localhost:8080/",
          "height": 282
        },
        "id": "gi60ZC3hyqzi",
        "outputId": "e24aa65e-8917-435e-92c9-b904fa8532b7"
      },
      "execution_count": 21,
      "outputs": [
        {
          "output_type": "execute_result",
          "data": {
            "text/plain": [
              "<matplotlib.axes._subplots.AxesSubplot at 0x7f87856a27d0>"
            ]
          },
          "metadata": {},
          "execution_count": 21
        },
        {
          "output_type": "display_data",
          "data": {
            "image/png": "[encoded data removed]",
            "text/plain": [
              "<Figure size 432x288 with 1 Axes>"
            ]
          },
          "metadata": {
            "needs_background": "light"
          }
        }
      ]
    },
    {
      "cell_type": "code",
      "source": [
        "rating.rating.plot(kind=\"hist\")"
      ],
      "metadata": {
        "colab": {
          "base_uri": "https://localhost:8080/",
          "height": 285
        },
        "id": "CX66D9NWyuJt",
        "outputId": "d615867d-af2b-4508-b3b5-895156292b4b"
      },
      "execution_count": 22,
      "outputs": [
        {
          "output_type": "execute_result",
          "data": {
            "text/plain": [
              "<matplotlib.axes._subplots.AxesSubplot at 0x7f8785671d10>"
            ]
          },
          "metadata": {},
          "execution_count": 22
        },
        {
          "output_type": "display_data",
          "data": {
            "image/png": "[encoded data removed]",
            "text/plain": [
              "<Figure size 432x288 with 1 Axes>"
            ]
          },
          "metadata": {
            "needs_background": "light"
          }
        }
      ]
    },
    {
      "cell_type": "markdown",
      "source": [
        " Q 1.3. What are the total number of unique users and unique movies? "
      ],
      "metadata": {
        "id": "jXcGWwIzy2OT"
      }
    },
    {
      "cell_type": "code",
      "source": [
        "len(rating.userId.unique())"
      ],
      "metadata": {
        "colab": {
          "base_uri": "https://localhost:8080/"
        },
        "id": "OJtIBPrJy53_",
        "outputId": "57882bd5-bccb-4fc9-c28d-4ef7d278c2aa"
      },
      "execution_count": 29,
      "outputs": [
        {
          "output_type": "execute_result",
          "data": {
            "text/plain": [
              "671"
            ]
          },
          "metadata": {},
          "execution_count": 29
        }
      ]
    },
    {
      "cell_type": "code",
      "source": [
        "rating.userId.value_counts()"
      ],
      "metadata": {
        "colab": {
          "base_uri": "https://localhost:8080/"
        },
        "id": "aocYkA6bzQNo",
        "outputId": "11664399-c336-4ce8-88af-63934bdf2cd9"
      },
      "execution_count": 31,
      "outputs": [
        {
          "output_type": "execute_result",
          "data": {
            "text/plain": [
              "547    2391\n",
              "564    1868\n",
              "624    1735\n",
              "15     1700\n",
              "73     1610\n",
              "       ... \n",
              "296      20\n",
              "289      20\n",
              "249      20\n",
              "221      20\n",
              "1        20\n",
              "Name: userId, Length: 671, dtype: int64"
            ]
          },
          "metadata": {},
          "execution_count": 31
        }
      ]
    },
    {
      "cell_type": "markdown",
      "source": [
        " Q 1.4. Which one is the most interacted movie in the dataset? "
      ],
      "metadata": {
        "id": "uSVFoiWfyyDO"
      }
    },
    {
      "cell_type": "code",
      "source": [
        "rating.movieId.value_counts().head(1)"
      ],
      "metadata": {
        "colab": {
          "base_uri": "https://localhost:8080/"
        },
        "id": "32lWWQECza1A",
        "outputId": "742cbccd-cbd3-4720-d207-ecd3e8dccd26"
      },
      "execution_count": 41,
      "outputs": [
        {
          "output_type": "execute_result",
          "data": {
            "text/plain": [
              "356    341\n",
              "Name: movieId, dtype: int64"
            ]
          },
          "metadata": {},
          "execution_count": 41
        }
      ]
    },
    {
      "cell_type": "markdown",
      "source": [
        "Q 1.5. Which user interacted the most with any movie in the dataset?"
      ],
      "metadata": {
        "id": "zRXLuazj0Gie"
      }
    },
    {
      "cell_type": "code",
      "source": [
        "rating.userId.value_counts().head(1)"
      ],
      "metadata": {
        "colab": {
          "base_uri": "https://localhost:8080/"
        },
        "id": "mq_-H25x0DBt",
        "outputId": "edadf702-21cd-4455-fc28-ffeb0140c41d"
      },
      "execution_count": 44,
      "outputs": [
        {
          "output_type": "execute_result",
          "data": {
            "text/plain": [
              "547    2391\n",
              "Name: userId, dtype: int64"
            ]
          },
          "metadata": {},
          "execution_count": 44
        }
      ]
    },
    {
      "cell_type": "markdown",
      "source": [
        "Q 1.6. What is the distribution of the user-movie interactions in this dataset?"
      ],
      "metadata": {
        "id": "Jj5FO1A_0QdB"
      }
    },
    {
      "cell_type": "code",
      "source": [
        ""
      ],
      "metadata": {
        "id": "6htBRXJm0P5h"
      },
      "execution_count": null,
      "outputs": []
    },
    {
      "cell_type": "markdown",
      "metadata": {
        "id": "fBZYy0HavOOH"
      },
      "source": [
        "#### Q 1.2 Describe the distribution of ratings. (1 Mark)\n",
        "\n"
      ]
    },
    {
      "cell_type": "code",
      "execution_count": 48,
      "metadata": {
        "id": "lO-EYEl3wIA2",
        "outputId": "5f7ef50e-efb1-496e-8f58-bdf2448932fc",
        "colab": {
          "base_uri": "https://localhost:8080/",
          "height": 293
        }
      },
      "outputs": [
        {
          "output_type": "display_data",
          "data": {
            "image/png": "[encoded data removed]",
            "text/plain": [
              "<Figure size 864x288 with 1 Axes>"
            ]
          },
          "metadata": {
            "needs_background": "light"
          }
        }
      ],
      "source": [
        "plt.figure(figsize = (12, 4))\n",
        "\n",
        "#remove _______and complete the code\n",
        "sns.countplot(data= rating, x=\"rating\",)\n",
        "\n",
        "plt.tick_params(labelsize = 10)\n",
        "plt.title(\"Distribution of Ratings \", fontsize = 10)\n",
        "plt.xlabel(\"Ratings\", fontsize = 10)\n",
        "plt.ylabel(\"Number of Ratings\", fontsize = 10)\n",
        "plt.show()"
      ]
    },
    {
      "cell_type": "markdown",
      "metadata": {
        "id": "vgRDrtHhwIA4"
      },
      "source": [
        "**Write your Answer here:______**"
      ]
    },
    {
      "cell_type": "markdown",
      "metadata": {
        "id": "UOBD03d9vOOH"
      },
      "source": [
        "#### Q 1.3 What is the total number of unique users and unique movies? (1 Mark)\n"
      ]
    },
    {
      "cell_type": "code",
      "execution_count": 50,
      "metadata": {
        "colab": {
          "base_uri": "https://localhost:8080/"
        },
        "id": "RMpbsZGGvOOH",
        "outputId": "5d934a5c-ec15-4681-9109-9d91e191ac39"
      },
      "outputs": [
        {
          "output_type": "execute_result",
          "data": {
            "text/plain": [
              "671"
            ]
          },
          "metadata": {},
          "execution_count": 50
        }
      ],
      "source": [
        "#Finding number of unique users\n",
        "#remove _______ and complete the code\n",
        "\n",
        "len(rating['userId'].unique())"
      ]
    },
    {
      "cell_type": "markdown",
      "metadata": {
        "id": "CI8gofnx2N9m"
      },
      "source": [
        "**Write your answer here:_671_**"
      ]
    },
    {
      "cell_type": "code",
      "execution_count": 53,
      "metadata": {
        "colab": {
          "base_uri": "https://localhost:8080/"
        },
        "id": "9A6Qmo_6vOOH",
        "outputId": "7774f6f9-0ca8-433a-b441-3bd310d92a18"
      },
      "outputs": [
        {
          "output_type": "execute_result",
          "data": {
            "text/plain": [
              "9066"
            ]
          },
          "metadata": {},
          "execution_count": 53
        }
      ],
      "source": [
        "#Finding number of unique movies\n",
        "#remove _______ and complete the code\n",
        "rating['movieId'].nunique()"
      ]
    },
    {
      "cell_type": "markdown",
      "metadata": {
        "id": "mDWJghQ62N9o"
      },
      "source": [
        "**Write your answer here: 9066**"
      ]
    },
    {
      "cell_type": "markdown",
      "metadata": {
        "id": "mR9tzSzTvOOH"
      },
      "source": [
        "#### Q 1.4 Is there any movie that has been interacted with more than once by the same user? (1 Mark)"
      ]
    },
    {
      "cell_type": "code",
      "execution_count": 58,
      "metadata": {
        "colab": {
          "base_uri": "https://localhost:8080/",
          "height": 455
        },
        "id": "xstEDCVfvOOH",
        "outputId": "f272b3f2-a41e-4236-ddf9-504c12e5b4a5"
      },
      "outputs": [
        {
          "output_type": "execute_result",
          "data": {
            "text/html": [
              "\n",
              "  <div id=\"df-77d783e0-a64d-460e-b47d-aca0574a5d14\">\n",
              "    <div class=\"colab-df-container\">\n",
              "      <div>\n",
              "<style scoped>\n",
              "    .dataframe tbody tr th:only-of-type {\n",
              "        vertical-align: middle;\n",
              "    }\n",
              "\n",
              "    .dataframe tbody tr th {\n",
              "        vertical-align: top;\n",
              "    }\n",
              "\n",
              "    .dataframe thead th {\n",
              "        text-align: right;\n",
              "    }\n",
              "</style>\n",
              "<table border=\"1\" class=\"dataframe\">\n",
              "  <thead>\n",
              "    <tr style=\"text-align: right;\">\n",
              "      <th></th>\n",
              "      <th></th>\n",
              "      <th>rating</th>\n",
              "    </tr>\n",
              "    <tr>\n",
              "      <th>userId</th>\n",
              "      <th>movieId</th>\n",
              "      <th></th>\n",
              "    </tr>\n",
              "  </thead>\n",
              "  <tbody>\n",
              "    <tr>\n",
              "      <th>547</th>\n",
              "      <th>163949</th>\n",
              "      <td>1</td>\n",
              "    </tr>\n",
              "    <tr>\n",
              "      <th rowspan=\"2\" valign=\"top\">611</th>\n",
              "      <th>162672</th>\n",
              "      <td>1</td>\n",
              "    </tr>\n",
              "    <tr>\n",
              "      <th>162542</th>\n",
              "      <td>1</td>\n",
              "    </tr>\n",
              "    <tr>\n",
              "      <th>73</th>\n",
              "      <th>162376</th>\n",
              "      <td>1</td>\n",
              "    </tr>\n",
              "    <tr>\n",
              "      <th>287</th>\n",
              "      <th>161944</th>\n",
              "      <td>1</td>\n",
              "    </tr>\n",
              "    <tr>\n",
              "      <th>...</th>\n",
              "      <th>...</th>\n",
              "      <td>...</td>\n",
              "    </tr>\n",
              "    <tr>\n",
              "      <th>458</th>\n",
              "      <th>1</th>\n",
              "      <td>1</td>\n",
              "    </tr>\n",
              "    <tr>\n",
              "      <th>200</th>\n",
              "      <th>1</th>\n",
              "      <td>1</td>\n",
              "    </tr>\n",
              "    <tr>\n",
              "      <th>383</th>\n",
              "      <th>1</th>\n",
              "      <td>1</td>\n",
              "    </tr>\n",
              "    <tr>\n",
              "      <th>407</th>\n",
              "      <th>1</th>\n",
              "      <td>1</td>\n",
              "    </tr>\n",
              "    <tr>\n",
              "      <th>312</th>\n",
              "      <th>1</th>\n",
              "      <td>1</td>\n",
              "    </tr>\n",
              "  </tbody>\n",
              "</table>\n",
              "<p>100004 rows × 1 columns</p>\n",
              "</div>\n",
              "      <button class=\"colab-df-convert\" onclick=\"convertToInteractive('df-77d783e0-a64d-460e-b47d-aca0574a5d14')\"\n",
              "              title=\"Convert this dataframe to an interactive table.\"\n",
              "              style=\"display:none;\">\n",
              "        \n",
              "  <svg xmlns=\"http://www.w3.org/2000/svg\" height=\"24px\"viewBox=\"0 0 24 24\"\n",
              "       width=\"24px\">\n",
              "    <path d=\"M0 0h24v24H0V0z\" fill=\"none\"/>\n",
              "    <path d=\"M18.56 5.44l.94 2.06.94-2.06 2.06-.94-2.06-.94-.94-2.06-.94 2.06-2.06.94zm-11 1L8.5 8.5l.94-2.06 2.06-.94-2.06-.94L8.5 2.5l-.94 2.06-2.06.94zm10 10l.94 2.06.94-2.06 2.06-.94-2.06-.94-.94-2.06-.94 2.06-2.06.94z\"/><path d=\"M17.41 7.96l-1.37-1.37c-.4-.4-.92-.59-1.43-.59-.52 0-1.04.2-1.43.59L10.3 9.45l-7.72 7.72c-.78.78-.78 2.05 0 2.83L4 21.41c.39.39.9.59 1.41.59.51 0 1.02-.2 1.41-.59l7.78-7.78 2.81-2.81c.8-.78.8-2.07 0-2.86zM5.41 20L4 18.59l7.72-7.72 1.47 1.35L5.41 20z\"/>\n",
              "  </svg>\n",
              "      </button>\n",
              "      \n",
              "  <style>\n",
              "    .colab-df-container {\n",
              "      display:flex;\n",
              "      flex-wrap:wrap;\n",
              "      gap: 12px;\n",
              "    }\n",
              "\n",
              "    .colab-df-convert {\n",
              "      background-color: #E8F0FE;\n",
              "      border: none;\n",
              "      border-radius: 50%;\n",
              "      cursor: pointer;\n",
              "      display: none;\n",
              "      fill: #1967D2;\n",
              "      height: 32px;\n",
              "      padding: 0 0 0 0;\n",
              "      width: 32px;\n",
              "    }\n",
              "\n",
              "    .colab-df-convert:hover {\n",
              "      background-color: #E2EBFA;\n",
              "      box-shadow: 0px 1px 2px rgba(60, 64, 67, 0.3), 0px 1px 3px 1px rgba(60, 64, 67, 0.15);\n",
              "      fill: #174EA6;\n",
              "    }\n",
              "\n",
              "    [theme=dark] .colab-df-convert {\n",
              "      background-color: #3B4455;\n",
              "      fill: #D2E3FC;\n",
              "    }\n",
              "\n",
              "    [theme=dark] .colab-df-convert:hover {\n",
              "      background-color: #434B5C;\n",
              "      box-shadow: 0px 1px 3px 1px rgba(0, 0, 0, 0.15);\n",
              "      filter: drop-shadow(0px 1px 2px rgba(0, 0, 0, 0.3));\n",
              "      fill: #FFFFFF;\n",
              "    }\n",
              "  </style>\n",
              "\n",
              "      <script>\n",
              "        const buttonEl =\n",
              "          document.querySelector('#df-77d783e0-a64d-460e-b47d-aca0574a5d14 button.colab-df-convert');\n",
              "        buttonEl.style.display =\n",
              "          google.colab.kernel.accessAllowed ? 'block' : 'none';\n",
              "\n",
              "        async function convertToInteractive(key) {\n",
              "          const element = document.querySelector('#df-77d783e0-a64d-460e-b47d-aca0574a5d14');\n",
              "          const dataTable =\n",
              "            await google.colab.kernel.invokeFunction('convertToInteractive',\n",
              "                                                     [key], {});\n",
              "          if (!dataTable) return;\n",
              "\n",
              "          const docLinkHtml = 'Like what you see? Visit the ' +\n",
              "            '<a target=\"_blank\" href=https://colab.research.google.com/notebooks/data_table.ipynb>data table notebook</a>'\n",
              "            + ' to learn more about interactive tables.';\n",
              "          element.innerHTML = '';\n",
              "          dataTable['output_type'] = 'display_data';\n",
              "          await google.colab.output.renderOutput(dataTable, element);\n",
              "          const docLink = document.createElement('div');\n",
              "          docLink.innerHTML = docLinkHtml;\n",
              "          element.appendChild(docLink);\n",
              "        }\n",
              "      </script>\n",
              "    </div>\n",
              "  </div>\n",
              "  "
            ],
            "text/plain": [
              "                rating\n",
              "userId movieId        \n",
              "547    163949        1\n",
              "611    162672        1\n",
              "       162542        1\n",
              "73     162376        1\n",
              "287    161944        1\n",
              "...                ...\n",
              "458    1             1\n",
              "200    1             1\n",
              "383    1             1\n",
              "407    1             1\n",
              "312    1             1\n",
              "\n",
              "[100004 rows x 1 columns]"
            ]
          },
          "metadata": {},
          "execution_count": 58
        }
      ],
      "source": [
        "rating.groupby(['userId', 'movieId']).count().sort_values(by=\"movieId\", ascending=False)"
      ]
    },
    {
      "cell_type": "code",
      "execution_count": 59,
      "metadata": {
        "colab": {
          "base_uri": "https://localhost:8080/"
        },
        "id": "d1E2i5rZvOOI",
        "outputId": "e55fb62f-9d1b-40b4-c8ee-508af16bf5be"
      },
      "outputs": [
        {
          "output_type": "execute_result",
          "data": {
            "text/plain": [
              "100004"
            ]
          },
          "metadata": {},
          "execution_count": 59
        }
      ],
      "source": [
        "rating.groupby(['userId', 'movieId']).count()['rating'].sum()"
      ]
    },
    {
      "cell_type": "markdown",
      "metadata": {
        "id": "ynCEs7q3vOOI"
      },
      "source": [
        "**Write your Answer here:__________**"
      ]
    },
    {
      "cell_type": "markdown",
      "metadata": {
        "id": "JQgjqRnevOOI"
      },
      "source": [
        "#### Q 1.5 Which is the most interacted movie in the dataset? (1 Mark)"
      ]
    },
    {
      "cell_type": "code",
      "execution_count": 60,
      "metadata": {
        "colab": {
          "base_uri": "https://localhost:8080/"
        },
        "id": "4LBbXdoDvOOI",
        "outputId": "5326b56b-f341-4db6-ca02-6d557a3a5e81"
      },
      "outputs": [
        {
          "output_type": "execute_result",
          "data": {
            "text/plain": [
              "356       341\n",
              "296       324\n",
              "318       311\n",
              "593       304\n",
              "260       291\n",
              "         ... \n",
              "98604       1\n",
              "103659      1\n",
              "104419      1\n",
              "115927      1\n",
              "6425        1\n",
              "Name: movieId, Length: 9066, dtype: int64"
            ]
          },
          "metadata": {},
          "execution_count": 60
        }
      ],
      "source": [
        "#remove _______ and complete the code\n",
        "rating['movieId'].value_counts()"
      ]
    },
    {
      "cell_type": "markdown",
      "metadata": {
        "id": "PSo-c_XAvOOI"
      },
      "source": [
        "**Write your Answer here:356**"
      ]
    },
    {
      "cell_type": "code",
      "execution_count": 61,
      "metadata": {
        "colab": {
          "base_uri": "https://localhost:8080/",
          "height": 448
        },
        "id": "fVkc1FK22N9r",
        "outputId": "f51c25b8-2a71-4b07-9b87-9c5bc5e80e8e"
      },
      "outputs": [
        {
          "output_type": "display_data",
          "data": {
            "image/png": "[encoded data removed]",
            "text/plain": [
              "<Figure size 504x504 with 1 Axes>"
            ]
          },
          "metadata": {
            "needs_background": "light"
          }
        }
      ],
      "source": [
        "#Plotting distributions of ratings for 341 interactions with movieid 356 \n",
        "plt.figure(figsize=(7,7))\n",
        "\n",
        "rating[rating['movieId'] == 356]['rating'].value_counts().plot(kind='bar')\n",
        "\n",
        "plt.xlabel('Rating')\n",
        "\n",
        "plt.ylabel('Count')\n",
        "\n",
        "plt.show()"
      ]
    },
    {
      "cell_type": "markdown",
      "metadata": {
        "id": "0pQn17ro2N9s"
      },
      "source": [
        "**Write your Answer here:____________**"
      ]
    },
    {
      "cell_type": "markdown",
      "metadata": {
        "id": "ByQRFyjNxQQz"
      },
      "source": [
        "#### Analysis of Ratings by users :______"
      ]
    },
    {
      "cell_type": "markdown",
      "metadata": {
        "id": "0kXJ_iTEvOOI"
      },
      "source": [
        "#### Q 1.6 Which user interacted the most with any movie in the dataset? (1 Mark)"
      ]
    },
    {
      "cell_type": "code",
      "execution_count": 62,
      "metadata": {
        "colab": {
          "base_uri": "https://localhost:8080/"
        },
        "id": "t7ehlMLDvOOI",
        "outputId": "69dd56ef-2d8a-4eac-9bef-13afdf456b98"
      },
      "outputs": [
        {
          "output_type": "execute_result",
          "data": {
            "text/plain": [
              "547    2391\n",
              "564    1868\n",
              "624    1735\n",
              "15     1700\n",
              "73     1610\n",
              "       ... \n",
              "296      20\n",
              "289      20\n",
              "249      20\n",
              "221      20\n",
              "1        20\n",
              "Name: userId, Length: 671, dtype: int64"
            ]
          },
          "metadata": {},
          "execution_count": 62
        }
      ],
      "source": [
        "#remove _______ and complete the code\n",
        "rating['userId'].value_counts()"
      ]
    },
    {
      "cell_type": "markdown",
      "metadata": {
        "id": "W-Sdna2ovOOI"
      },
      "source": [
        "**Write your Answer here:547**"
      ]
    },
    {
      "cell_type": "markdown",
      "metadata": {
        "id": "lHReghdivOOI"
      },
      "source": [
        "#### Q 1.7 What is the distribution of the user-movie interactions in this dataset? (1 Mark)"
      ]
    },
    {
      "cell_type": "code",
      "execution_count": 63,
      "metadata": {
        "colab": {
          "base_uri": "https://localhost:8080/"
        },
        "id": "0XArWJ7l2N9v",
        "outputId": "c6e8dbf5-cc06-42c0-e12a-8af6d678f45a"
      },
      "outputs": [
        {
          "output_type": "execute_result",
          "data": {
            "text/plain": [
              "userId\n",
              "1       20\n",
              "2       76\n",
              "3       51\n",
              "4      204\n",
              "5      100\n",
              "      ... \n",
              "667     68\n",
              "668     20\n",
              "669     37\n",
              "670     31\n",
              "671    115\n",
              "Name: movieId, Length: 671, dtype: int64"
            ]
          },
          "metadata": {},
          "execution_count": 63
        }
      ],
      "source": [
        "#Finding user-movie interactions distribution\n",
        "\n",
        "count_interactions = rating.groupby('userId').count()['movieId']\n",
        "count_interactions"
      ]
    },
    {
      "cell_type": "code",
      "execution_count": 64,
      "metadata": {
        "colab": {
          "base_uri": "https://localhost:8080/",
          "height": 445
        },
        "id": "JoNCRm88vOOI",
        "outputId": "542d0806-4c85-4abb-cc21-3363ad856bbe"
      },
      "outputs": [
        {
          "output_type": "display_data",
          "data": {
            "image/png": "[encoded data removed]",
            "text/plain": [
              "<Figure size 1080x504 with 1 Axes>"
            ]
          },
          "metadata": {
            "needs_background": "light"
          }
        }
      ],
      "source": [
        "#Plotting user-movie interactions distribution\n",
        "\n",
        "plt.figure(figsize=(15,7))\n",
        "#remove _______ and complete the code\n",
        "\n",
        "sns.histplot(count_interactions)\n",
        "\n",
        "plt.xlabel('Number of Interactions by Users')\n",
        "\n",
        "plt.show()"
      ]
    },
    {
      "cell_type": "markdown",
      "metadata": {
        "id": "vmj5nPiN2N9w"
      },
      "source": [
        "**Write your Answer here:__________**"
      ]
    },
    {
      "cell_type": "markdown",
      "metadata": {
        "id": "knK9ML0bwIBR"
      },
      "source": [
        "#### As we have now explored the data, let's start building Recommendation systems\n",
        "\n",
        "### **Question 2: Create Rank-Based Recommendation System (3 Marks)**"
      ]
    },
    {
      "cell_type": "markdown",
      "metadata": {
        "id": "CqFN5jDJvOOJ"
      },
      "source": [
        "### **Model 1: Rank-Based Recommendation System**"
      ]
    },
    {
      "cell_type": "markdown",
      "metadata": {
        "id": "W26vIRn1vOOJ"
      },
      "source": [
        "Rank-based recommendation systems provide recommendations based on the most popular items. This kind of recommendation system is useful when we have **cold start** problems. Cold start refers to the issue when we get a new user into the system and the machine is not able to recommend movies to the new user, as the user did not have any historical interactions in the dataset. In those cases, we can use rank-based recommendation system to recommend movies to the new user."
      ]
    },
    {
      "cell_type": "markdown",
      "metadata": {
        "id": "I3t4uyGlvOOK"
      },
      "source": [
        "To build the rank-based recommendation system, we take **average** of all the ratings provided to each movie and then rank them based on their average rating."
      ]
    },
    {
      "cell_type": "code",
      "execution_count": 99,
      "metadata": {
        "id": "xuMR3XFIvOOK"
      },
      "outputs": [],
      "source": [
        "#remove _______ and complete the code\n",
        "\n",
        "#Calculating average ratings\n",
        "average_rating = rating.groupby('movieId').mean()['rating']\n",
        "\n",
        "#Calculating the count of ratings\n",
        "count_rating = rating.groupby('movieId').count()['rating']\n",
        "\n",
        "#Making a dataframe with the count and average of ratings\n",
        "final_rating = pd.DataFrame({'avg_rating':average_rating, 'rating_count':count_rating})"
      ]
    },
    {
      "cell_type": "code",
      "execution_count": 100,
      "metadata": {
        "colab": {
          "base_uri": "https://localhost:8080/",
          "height": 238
        },
        "id": "J6NLX6FIvOOK",
        "outputId": "a557ba02-75d2-42c6-f716-c20351f33702"
      },
      "outputs": [
        {
          "output_type": "execute_result",
          "data": {
            "text/html": [
              "\n",
              "  <div id=\"df-a9c2987f-f8e9-4190-b5dc-c06d64a65ec7\">\n",
              "    <div class=\"colab-df-container\">\n",
              "      <div>\n",
              "<style scoped>\n",
              "    .dataframe tbody tr th:only-of-type {\n",
              "        vertical-align: middle;\n",
              "    }\n",
              "\n",
              "    .dataframe tbody tr th {\n",
              "        vertical-align: top;\n",
              "    }\n",
              "\n",
              "    .dataframe thead th {\n",
              "        text-align: right;\n",
              "    }\n",
              "</style>\n",
              "<table border=\"1\" class=\"dataframe\">\n",
              "  <thead>\n",
              "    <tr style=\"text-align: right;\">\n",
              "      <th></th>\n",
              "      <th>avg_rating</th>\n",
              "      <th>rating_count</th>\n",
              "    </tr>\n",
              "    <tr>\n",
              "      <th>movieId</th>\n",
              "      <th></th>\n",
              "      <th></th>\n",
              "    </tr>\n",
              "  </thead>\n",
              "  <tbody>\n",
              "    <tr>\n",
              "      <th>1</th>\n",
              "      <td>3.872470</td>\n",
              "      <td>247</td>\n",
              "    </tr>\n",
              "    <tr>\n",
              "      <th>2</th>\n",
              "      <td>3.401869</td>\n",
              "      <td>107</td>\n",
              "    </tr>\n",
              "    <tr>\n",
              "      <th>3</th>\n",
              "      <td>3.161017</td>\n",
              "      <td>59</td>\n",
              "    </tr>\n",
              "    <tr>\n",
              "      <th>4</th>\n",
              "      <td>2.384615</td>\n",
              "      <td>13</td>\n",
              "    </tr>\n",
              "    <tr>\n",
              "      <th>5</th>\n",
              "      <td>3.267857</td>\n",
              "      <td>56</td>\n",
              "    </tr>\n",
              "  </tbody>\n",
              "</table>\n",
              "</div>\n",
              "      <button class=\"colab-df-convert\" onclick=\"convertToInteractive('df-a9c2987f-f8e9-4190-b5dc-c06d64a65ec7')\"\n",
              "              title=\"Convert this dataframe to an interactive table.\"\n",
              "              style=\"display:none;\">\n",
              "        \n",
              "  <svg xmlns=\"http://www.w3.org/2000/svg\" height=\"24px\"viewBox=\"0 0 24 24\"\n",
              "       width=\"24px\">\n",
              "    <path d=\"M0 0h24v24H0V0z\" fill=\"none\"/>\n",
              "    <path d=\"M18.56 5.44l.94 2.06.94-2.06 2.06-.94-2.06-.94-.94-2.06-.94 2.06-2.06.94zm-11 1L8.5 8.5l.94-2.06 2.06-.94-2.06-.94L8.5 2.5l-.94 2.06-2.06.94zm10 10l.94 2.06.94-2.06 2.06-.94-2.06-.94-.94-2.06-.94 2.06-2.06.94z\"/><path d=\"M17.41 7.96l-1.37-1.37c-.4-.4-.92-.59-1.43-.59-.52 0-1.04.2-1.43.59L10.3 9.45l-7.72 7.72c-.78.78-.78 2.05 0 2.83L4 21.41c.39.39.9.59 1.41.59.51 0 1.02-.2 1.41-.59l7.78-7.78 2.81-2.81c.8-.78.8-2.07 0-2.86zM5.41 20L4 18.59l7.72-7.72 1.47 1.35L5.41 20z\"/>\n",
              "  </svg>\n",
              "      </button>\n",
              "      \n",
              "  <style>\n",
              "    .colab-df-container {\n",
              "      display:flex;\n",
              "      flex-wrap:wrap;\n",
              "      gap: 12px;\n",
              "    }\n",
              "\n",
              "    .colab-df-convert {\n",
              "      background-color: #E8F0FE;\n",
              "      border: none;\n",
              "      border-radius: 50%;\n",
              "      cursor: pointer;\n",
              "      display: none;\n",
              "      fill: #1967D2;\n",
              "      height: 32px;\n",
              "      padding: 0 0 0 0;\n",
              "      width: 32px;\n",
              "    }\n",
              "\n",
              "    .colab-df-convert:hover {\n",
              "      background-color: #E2EBFA;\n",
              "      box-shadow: 0px 1px 2px rgba(60, 64, 67, 0.3), 0px 1px 3px 1px rgba(60, 64, 67, 0.15);\n",
              "      fill: #174EA6;\n",
              "    }\n",
              "\n",
              "    [theme=dark] .colab-df-convert {\n",
              "      background-color: #3B4455;\n",
              "      fill: #D2E3FC;\n",
              "    }\n",
              "\n",
              "    [theme=dark] .colab-df-convert:hover {\n",
              "      background-color: #434B5C;\n",
              "      box-shadow: 0px 1px 3px 1px rgba(0, 0, 0, 0.15);\n",
              "      filter: drop-shadow(0px 1px 2px rgba(0, 0, 0, 0.3));\n",
              "      fill: #FFFFFF;\n",
              "    }\n",
              "  </style>\n",
              "\n",
              "      <script>\n",
              "        const buttonEl =\n",
              "          document.querySelector('#df-a9c2987f-f8e9-4190-b5dc-c06d64a65ec7 button.colab-df-convert');\n",
              "        buttonEl.style.display =\n",
              "          google.colab.kernel.accessAllowed ? 'block' : 'none';\n",
              "\n",
              "        async function convertToInteractive(key) {\n",
              "          const element = document.querySelector('#df-a9c2987f-f8e9-4190-b5dc-c06d64a65ec7');\n",
              "          const dataTable =\n",
              "            await google.colab.kernel.invokeFunction('convertToInteractive',\n",
              "                                                     [key], {});\n",
              "          if (!dataTable) return;\n",
              "\n",
              "          const docLinkHtml = 'Like what you see? Visit the ' +\n",
              "            '<a target=\"_blank\" href=https://colab.research.google.com/notebooks/data_table.ipynb>data table notebook</a>'\n",
              "            + ' to learn more about interactive tables.';\n",
              "          element.innerHTML = '';\n",
              "          dataTable['output_type'] = 'display_data';\n",
              "          await google.colab.output.renderOutput(dataTable, element);\n",
              "          const docLink = document.createElement('div');\n",
              "          docLink.innerHTML = docLinkHtml;\n",
              "          element.appendChild(docLink);\n",
              "        }\n",
              "      </script>\n",
              "    </div>\n",
              "  </div>\n",
              "  "
            ],
            "text/plain": [
              "         avg_rating  rating_count\n",
              "movieId                          \n",
              "1          3.872470           247\n",
              "2          3.401869           107\n",
              "3          3.161017            59\n",
              "4          2.384615            13\n",
              "5          3.267857            56"
            ]
          },
          "metadata": {},
          "execution_count": 100
        }
      ],
      "source": [
        "final_rating.head()"
      ]
    },
    {
      "cell_type": "code",
      "source": [
        "final_rating.describe()"
      ],
      "metadata": {
        "colab": {
          "base_uri": "https://localhost:8080/",
          "height": 300
        },
        "id": "H4ic4_LG4jNX",
        "outputId": "dc38675a-d773-43e7-88ee-311da48edf7f"
      },
      "execution_count": 101,
      "outputs": [
        {
          "output_type": "execute_result",
          "data": {
            "text/html": [
              "\n",
              "  <div id=\"df-fc2d8e57-62c9-4954-b6a7-e3a8e195e129\">\n",
              "    <div class=\"colab-df-container\">\n",
              "      <div>\n",
              "<style scoped>\n",
              "    .dataframe tbody tr th:only-of-type {\n",
              "        vertical-align: middle;\n",
              "    }\n",
              "\n",
              "    .dataframe tbody tr th {\n",
              "        vertical-align: top;\n",
              "    }\n",
              "\n",
              "    .dataframe thead th {\n",
              "        text-align: right;\n",
              "    }\n",
              "</style>\n",
              "<table border=\"1\" class=\"dataframe\">\n",
              "  <thead>\n",
              "    <tr style=\"text-align: right;\">\n",
              "      <th></th>\n",
              "      <th>avg_rating</th>\n",
              "      <th>rating_count</th>\n",
              "    </tr>\n",
              "  </thead>\n",
              "  <tbody>\n",
              "    <tr>\n",
              "      <th>count</th>\n",
              "      <td>9066.000000</td>\n",
              "      <td>9066.000000</td>\n",
              "    </tr>\n",
              "    <tr>\n",
              "      <th>mean</th>\n",
              "      <td>3.292054</td>\n",
              "      <td>11.030664</td>\n",
              "    </tr>\n",
              "    <tr>\n",
              "      <th>std</th>\n",
              "      <td>0.881968</td>\n",
              "      <td>24.050800</td>\n",
              "    </tr>\n",
              "    <tr>\n",
              "      <th>min</th>\n",
              "      <td>0.500000</td>\n",
              "      <td>1.000000</td>\n",
              "    </tr>\n",
              "    <tr>\n",
              "      <th>25%</th>\n",
              "      <td>2.843750</td>\n",
              "      <td>1.000000</td>\n",
              "    </tr>\n",
              "    <tr>\n",
              "      <th>50%</th>\n",
              "      <td>3.500000</td>\n",
              "      <td>3.000000</td>\n",
              "    </tr>\n",
              "    <tr>\n",
              "      <th>75%</th>\n",
              "      <td>3.966250</td>\n",
              "      <td>9.000000</td>\n",
              "    </tr>\n",
              "    <tr>\n",
              "      <th>max</th>\n",
              "      <td>5.000000</td>\n",
              "      <td>341.000000</td>\n",
              "    </tr>\n",
              "  </tbody>\n",
              "</table>\n",
              "</div>\n",
              "      <button class=\"colab-df-convert\" onclick=\"convertToInteractive('df-fc2d8e57-62c9-4954-b6a7-e3a8e195e129')\"\n",
              "              title=\"Convert this dataframe to an interactive table.\"\n",
              "              style=\"display:none;\">\n",
              "        \n",
              "  <svg xmlns=\"http://www.w3.org/2000/svg\" height=\"24px\"viewBox=\"0 0 24 24\"\n",
              "       width=\"24px\">\n",
              "    <path d=\"M0 0h24v24H0V0z\" fill=\"none\"/>\n",
              "    <path d=\"M18.56 5.44l.94 2.06.94-2.06 2.06-.94-2.06-.94-.94-2.06-.94 2.06-2.06.94zm-11 1L8.5 8.5l.94-2.06 2.06-.94-2.06-.94L8.5 2.5l-.94 2.06-2.06.94zm10 10l.94 2.06.94-2.06 2.06-.94-2.06-.94-.94-2.06-.94 2.06-2.06.94z\"/><path d=\"M17.41 7.96l-1.37-1.37c-.4-.4-.92-.59-1.43-.59-.52 0-1.04.2-1.43.59L10.3 9.45l-7.72 7.72c-.78.78-.78 2.05 0 2.83L4 21.41c.39.39.9.59 1.41.59.51 0 1.02-.2 1.41-.59l7.78-7.78 2.81-2.81c.8-.78.8-2.07 0-2.86zM5.41 20L4 18.59l7.72-7.72 1.47 1.35L5.41 20z\"/>\n",
              "  </svg>\n",
              "      </button>\n",
              "      \n",
              "  <style>\n",
              "    .colab-df-container {\n",
              "      display:flex;\n",
              "      flex-wrap:wrap;\n",
              "      gap: 12px;\n",
              "    }\n",
              "\n",
              "    .colab-df-convert {\n",
              "      background-color: #E8F0FE;\n",
              "      border: none;\n",
              "      border-radius: 50%;\n",
              "      cursor: pointer;\n",
              "      display: none;\n",
              "      fill: #1967D2;\n",
              "      height: 32px;\n",
              "      padding: 0 0 0 0;\n",
              "      width: 32px;\n",
              "    }\n",
              "\n",
              "    .colab-df-convert:hover {\n",
              "      background-color: #E2EBFA;\n",
              "      box-shadow: 0px 1px 2px rgba(60, 64, 67, 0.3), 0px 1px 3px 1px rgba(60, 64, 67, 0.15);\n",
              "      fill: #174EA6;\n",
              "    }\n",
              "\n",
              "    [theme=dark] .colab-df-convert {\n",
              "      background-color: #3B4455;\n",
              "      fill: #D2E3FC;\n",
              "    }\n",
              "\n",
              "    [theme=dark] .colab-df-convert:hover {\n",
              "      background-color: #434B5C;\n",
              "      box-shadow: 0px 1px 3px 1px rgba(0, 0, 0, 0.15);\n",
              "      filter: drop-shadow(0px 1px 2px rgba(0, 0, 0, 0.3));\n",
              "      fill: #FFFFFF;\n",
              "    }\n",
              "  </style>\n",
              "\n",
              "      <script>\n",
              "        const buttonEl =\n",
              "          document.querySelector('#df-fc2d8e57-62c9-4954-b6a7-e3a8e195e129 button.colab-df-convert');\n",
              "        buttonEl.style.display =\n",
              "          google.colab.kernel.accessAllowed ? 'block' : 'none';\n",
              "\n",
              "        async function convertToInteractive(key) {\n",
              "          const element = document.querySelector('#df-fc2d8e57-62c9-4954-b6a7-e3a8e195e129');\n",
              "          const dataTable =\n",
              "            await google.colab.kernel.invokeFunction('convertToInteractive',\n",
              "                                                     [key], {});\n",
              "          if (!dataTable) return;\n",
              "\n",
              "          const docLinkHtml = 'Like what you see? Visit the ' +\n",
              "            '<a target=\"_blank\" href=https://colab.research.google.com/notebooks/data_table.ipynb>data table notebook</a>'\n",
              "            + ' to learn more about interactive tables.';\n",
              "          element.innerHTML = '';\n",
              "          dataTable['output_type'] = 'display_data';\n",
              "          await google.colab.output.renderOutput(dataTable, element);\n",
              "          const docLink = document.createElement('div');\n",
              "          docLink.innerHTML = docLinkHtml;\n",
              "          element.appendChild(docLink);\n",
              "        }\n",
              "      </script>\n",
              "    </div>\n",
              "  </div>\n",
              "  "
            ],
            "text/plain": [
              "        avg_rating  rating_count\n",
              "count  9066.000000   9066.000000\n",
              "mean      3.292054     11.030664\n",
              "std       0.881968     24.050800\n",
              "min       0.500000      1.000000\n",
              "25%       2.843750      1.000000\n",
              "50%       3.500000      3.000000\n",
              "75%       3.966250      9.000000\n",
              "max       5.000000    341.000000"
            ]
          },
          "metadata": {},
          "execution_count": 101
        }
      ]
    },
    {
      "cell_type": "markdown",
      "metadata": {
        "id": "Pv31nHm_2N9y"
      },
      "source": [
        "Now, let's create a function to find the **top n movies** for a recommendation based on the average ratings of movies. We can also add a **threshold for a minimum number of interactions** for a movie to be considered for recommendation. "
      ]
    },
    {
      "cell_type": "code",
      "execution_count": 102,
      "metadata": {
        "id": "Fy0SbxnevOOK"
      },
      "outputs": [],
      "source": [
        "def top_n_movies(data, n, min_interaction=100):\n",
        "    \n",
        "    #Finding movies with minimum number of interactions\n",
        "    recommendations = data[data['rating_count'] > min_interaction]\n",
        "    \n",
        "    #Sorting values w.r.t average rating \n",
        "    recommendations = recommendations.sort_values(by='avg_rating', ascending=False)\n",
        "    \n",
        "    return recommendations.index[:n]"
      ]
    },
    {
      "cell_type": "markdown",
      "metadata": {
        "id": "fi9vhL4Z2N9y"
      },
      "source": [
        "We can **use this function with different n's and minimum interactions** to get movies to recommend"
      ]
    },
    {
      "cell_type": "markdown",
      "metadata": {
        "id": "hkz4LlTpvOOK"
      },
      "source": [
        "#### **Recommending top 5 movies with 50 minimum interactions based on popularity**"
      ]
    },
    {
      "cell_type": "code",
      "execution_count": 103,
      "metadata": {
        "colab": {
          "base_uri": "https://localhost:8080/"
        },
        "id": "u-JX_ES9vOOK",
        "outputId": "7e6180d5-fa4d-45a6-be8d-4519e8df4625"
      },
      "outputs": [
        {
          "output_type": "execute_result",
          "data": {
            "text/plain": [
              "[858, 318, 913, 1221, 50]"
            ]
          },
          "metadata": {},
          "execution_count": 103
        }
      ],
      "source": [
        "#remove _______ and complete the code\n",
        "list(top_n_movies(final_rating,5,50))"
      ]
    },
    {
      "cell_type": "markdown",
      "metadata": {
        "id": "KRFTrsBVvOOK"
      },
      "source": [
        "#### **Recommending top 5 movies with 100 minimum interactions based on popularity**"
      ]
    },
    {
      "cell_type": "code",
      "execution_count": 104,
      "metadata": {
        "colab": {
          "base_uri": "https://localhost:8080/"
        },
        "id": "U2wvxF2rvOOK",
        "outputId": "d267e7b3-d85f-4878-896d-0df67efba106"
      },
      "outputs": [
        {
          "output_type": "execute_result",
          "data": {
            "text/plain": [
              "[858, 318, 1221, 50, 527]"
            ]
          },
          "metadata": {},
          "execution_count": 104
        }
      ],
      "source": [
        "#remove _______ and complete the code\n",
        "list(top_n_movies(final_rating,5,100))"
      ]
    },
    {
      "cell_type": "markdown",
      "metadata": {
        "id": "_3SW8bLkvOOK"
      },
      "source": [
        "#### **Recommending top 5 movies with 200 minimum interactions based on popularity**"
      ]
    },
    {
      "cell_type": "code",
      "execution_count": 105,
      "metadata": {
        "colab": {
          "base_uri": "https://localhost:8080/"
        },
        "id": "t6ziQvDgvOOK",
        "outputId": "0146be9a-dd4b-49e6-c3bc-a35fa4fcd3b6"
      },
      "outputs": [
        {
          "output_type": "execute_result",
          "data": {
            "text/plain": [
              "[318, 50, 527, 608, 296]"
            ]
          },
          "metadata": {},
          "execution_count": 105
        }
      ],
      "source": [
        "#remove _______ and complete the code\n",
        "list(top_n_movies(final_rating,5,200))"
      ]
    },
    {
      "cell_type": "markdown",
      "metadata": {
        "id": "r4vrsunx2N91"
      },
      "source": [
        "Now that we have seen how to apply the Rank-Based Recommendation System, let's create Collaborative Filtering Based Recommendation Systems."
      ]
    },
    {
      "cell_type": "markdown",
      "metadata": {
        "id": "sJI5kiiGvOOK"
      },
      "source": [
        "### Model 2: User based Collaborative Filtering Recommendation System (7 Marks)"
      ]
    },
    {
      "cell_type": "markdown",
      "metadata": {
        "id": "WpncF1lUvOOK"
      },
      "source": [
        "**First upload the images folder in Jupyter home**"
      ]
    },
    {
      "cell_type": "markdown",
      "metadata": {
        "id": "wVjPUvj82N92"
      },
      "source": [
        "![collaborative_filtering.PNG](collaborative_filtering.PNG)![collaborative_filtering.PNG](data:image/png;base64,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)"
      ]
    },
    {
      "cell_type": "markdown",
      "metadata": {
        "id": "H4yaWX37vOOK"
      },
      "source": [
        "In this above interactions matrix - out of the users B and C, which user is most likely to interact with the movie - The Terminal?"
      ]
    },
    {
      "cell_type": "markdown",
      "metadata": {
        "id": "QoSujZuuvOOK"
      },
      "source": [
        "In this type of recommendation system, `we do not need any information` about the users or items. We only need user item interaction data to build a collaborative recommendation system. For example - \n",
        "<ol>\n",
        "    <li><b>Ratings</b> provided by users. For example - ratings of books on goodread, movie ratings on imdb etc</li>\n",
        "    <li><b>Likes</b> of users on different facebook posts, likes on youtube videos</li>\n",
        "    <li><b>Use/buying</b> of a product by users. For example - buying different items on e-commerce sites</li>\n",
        "    <li><b>Reading</b> of articles by readers on various blogs</li>\n",
        "</ol>"
      ]
    },
    {
      "cell_type": "markdown",
      "metadata": {
        "id": "A_3GtPzuvOOK"
      },
      "source": [
        "#### Types of Collaborative Filtering"
      ]
    },
    {
      "cell_type": "markdown",
      "metadata": {
        "id": "igZX3WbqvOOK"
      },
      "source": [
        "- Similarity/Neighborhood based\n",
        "- Model based"
      ]
    },
    {
      "cell_type": "markdown",
      "metadata": {
        "id": "0D3MuFHqvOOK"
      },
      "source": [
        "#### Building Similarity/Neighborhood based Collaborative Filtering"
      ]
    },
    {
      "cell_type": "markdown",
      "metadata": {
        "id": "vyCEv8eJvOOK"
      },
      "source": [
        "![cosine.PNG](data:image/png;base64,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)"
      ]
    },
    {
      "cell_type": "markdown",
      "metadata": {
        "id": "skzc0N1_nVNB"
      },
      "source": [
        "#### Building a baseline similarity based recommendation system"
      ]
    },
    {
      "cell_type": "markdown",
      "metadata": {
        "id": "d4Uo_MYMnVNB"
      },
      "source": [
        "Below we are building similarity based recommendation system using `cosine` similarity and using KNN to find similar users which are nearest neighbor to the given user. "
      ]
    },
    {
      "cell_type": "markdown",
      "metadata": {
        "id": "-_T9DOvVnVNB"
      },
      "source": [
        "We will be using a new library - `surprise` to build the remaining models, let's first import the necessary classes and functions from this library"
      ]
    },
    {
      "cell_type": "markdown",
      "metadata": {
        "id": "8hxjJMTwnVNB"
      },
      "source": [
        "Below we are loading the `rating` dataset, which is a pandas dataframe, into a different format called `surprise.dataset.DatasetAutoFolds` which is required by this library. To do this we will be using the classes `Reader` and `Dataset`"
      ]
    },
    {
      "cell_type": "markdown",
      "metadata": {
        "id": "ME8k1WaXwIBp"
      },
      "source": [
        "#### Making the dataset into surprise dataset and splitting it into train and test set"
      ]
    },
    {
      "cell_type": "code",
      "execution_count": 88,
      "metadata": {
        "id": "rGfYDiOCpe4X"
      },
      "outputs": [],
      "source": [
        "# instantiating Reader scale with expected rating scale\n",
        "reader = Reader(rating_scale=(0, 5))\n",
        "\n",
        "# loading the rating dataset\n",
        "data = Dataset.load_from_df(rating[['userId', 'movieId', 'rating']], reader)\n",
        "\n",
        "# splitting the data into train and test dataset\n",
        "trainset, testset = train_test_split(data, test_size=0.2, random_state=42)"
      ]
    },
    {
      "cell_type": "markdown",
      "metadata": {
        "id": "DmHTEt7TnVNC"
      },
      "source": [
        "### Build the first baseline similarity based recommendation system using cosine similarity and KNN"
      ]
    },
    {
      "cell_type": "code",
      "execution_count": 107,
      "metadata": {
        "colab": {
          "base_uri": "https://localhost:8080/"
        },
        "id": "vO3FL7iape8A",
        "outputId": "56bca8a2-011d-4510-8155-71640beb2a68"
      },
      "outputs": [
        {
          "output_type": "stream",
          "name": "stdout",
          "text": [
            "RMSE: 0.9925\n"
          ]
        },
        {
          "output_type": "execute_result",
          "data": {
            "text/plain": [
              "0.9924509041520163"
            ]
          },
          "metadata": {},
          "execution_count": 107
        }
      ],
      "source": [
        "#remove _______ and complete the code\n",
        "sim_options = {'name': 'cosine',\n",
        "               'user_based': True}\n",
        "#defining Nearest neighbour algorithm\n",
        "algo_knn_user = KNNBasic(sim_options=sim_options,verbose=False)\n",
        "\n",
        "# Train the algorithm on the trainset or fitting the model on train dataset \n",
        "algo_knn_user.fit(trainset)\n",
        "\n",
        "#predict ratings for the testset\n",
        "predictions = algo_knn_user.test(testset)\n",
        "\n",
        "# Then compute RMSE\n",
        "accuracy.rmse(predictions)"
      ]
    },
    {
      "cell_type": "markdown",
      "metadata": {
        "id": "6y7zChf8wIBr"
      },
      "source": [
        "#### Q 3.1 What is the RMSE for baseline user based collaborative filtering recommendation system (1 Mark)"
      ]
    },
    {
      "cell_type": "markdown",
      "metadata": {
        "id": "yE5kvdZenVNC"
      },
      "source": [
        "**Write your Answer here:0.9925**"
      ]
    },
    {
      "cell_type": "markdown",
      "metadata": {
        "id": "qelE7GyrwIBs"
      },
      "source": [
        "#### Q 3.2 What is the Predicted  rating for an user with userId =4 and for movieId= 10 and movieId=3? (1 Mark)"
      ]
    },
    {
      "cell_type": "markdown",
      "metadata": {
        "id": "reFD0-nsnVNC"
      },
      "source": [
        "#### Let's us now predict rating for an user with `userId=4` and for `movieId=10`"
      ]
    },
    {
      "cell_type": "code",
      "execution_count": 108,
      "metadata": {
        "colab": {
          "base_uri": "https://localhost:8080/"
        },
        "id": "Sxd23bZ9pe_x",
        "outputId": "82dba578-4101-4fcc-823c-2b0b2186c9ba"
      },
      "outputs": [
        {
          "output_type": "stream",
          "name": "stdout",
          "text": [
            "user: 4          item: 10         r_ui = 4.00   est = 3.62   {'actual_k': 40, 'was_impossible': False}\n"
          ]
        },
        {
          "output_type": "execute_result",
          "data": {
            "text/plain": [
              "Prediction(uid=4, iid=10, r_ui=4, est=3.6244912065910952, details={'actual_k': 40, 'was_impossible': False})"
            ]
          },
          "metadata": {},
          "execution_count": 108
        }
      ],
      "source": [
        "#remove _______ and complete the code\n",
        "algo_knn_user.predict(4, 10, r_ui=4, verbose=True)"
      ]
    },
    {
      "cell_type": "markdown",
      "metadata": {
        "id": "QuVbIR3SnVNE"
      },
      "source": [
        "**Write your Answer here:_______**"
      ]
    },
    {
      "cell_type": "markdown",
      "metadata": {
        "id": "EXSgq8OEnVNE"
      },
      "source": [
        "Let's predict the rating for the same `userId=4` but for a movie which this user has not interacted before i.e. `movieId=3`"
      ]
    },
    {
      "cell_type": "code",
      "execution_count": 109,
      "metadata": {
        "colab": {
          "base_uri": "https://localhost:8080/"
        },
        "id": "PbFcBj1PpfEV",
        "outputId": "18c9a600-742a-4af2-92d5-b99e2d943ae6"
      },
      "outputs": [
        {
          "output_type": "stream",
          "name": "stdout",
          "text": [
            "user: 4          item: 3          r_ui = None   est = 3.20   {'actual_k': 40, 'was_impossible': False}\n"
          ]
        },
        {
          "output_type": "execute_result",
          "data": {
            "text/plain": [
              "Prediction(uid=4, iid=3, r_ui=None, est=3.202703552548654, details={'actual_k': 40, 'was_impossible': False})"
            ]
          },
          "metadata": {},
          "execution_count": 109
        }
      ],
      "source": [
        "#remove _______ and complete the code\n",
        "algo_knn_user.predict(4, 3, verbose=True)"
      ]
    },
    {
      "cell_type": "markdown",
      "metadata": {
        "id": "cm2xqtcQnVNE"
      },
      "source": [
        "**Write your Answer here:____**"
      ]
    },
    {
      "cell_type": "markdown",
      "metadata": {
        "id": "ejjof6csnVNF"
      },
      "source": [
        "### Improving user-user similarity based recommendation system by tuning its hyper-parameters"
      ]
    },
    {
      "cell_type": "markdown",
      "metadata": {
        "id": "x_kxe-_JnVNF"
      },
      "source": [
        "Below we will be tuning hyper-parmeters for the `KNNBasic` algorithms. Let's try to understand different hyperparameters of KNNBasic algorithm - "
      ]
    },
    {
      "cell_type": "markdown",
      "metadata": {
        "id": "p2j4VvfQnVNF"
      },
      "source": [
        "- **k** (int) – The (max) number of neighbors to take into account for aggregation (see this note). Default is 40.\n",
        "- **min_k** (int) – The minimum number of neighbors to take into account for aggregation. If there are not enough neighbors, the prediction is set to the global mean of all ratings. Default is 1.\n",
        "- **sim_options** (dict) – A dictionary of options for the similarity measure. And there are four similarity measures available in surprise - \n",
        "    - cosine\n",
        "    - msd (default)\n",
        "    - pearson\n",
        "    - pearson baseline\n",
        "    \n",
        "For more details please refer the official documentation https://surprise.readthedocs.io/en/stable/knn_inspired.html"
      ]
    },
    {
      "cell_type": "markdown",
      "metadata": {
        "id": "lTLnYn_JwIBx"
      },
      "source": [
        "#### Q 3.3 Perform hyperparameter tuning for the baseline user based collaborative filtering recommendation system and find the RMSE for tuned user based collaborative filtering recommendation system? (3 Marks)"
      ]
    },
    {
      "cell_type": "code",
      "execution_count": 111,
      "metadata": {
        "colab": {
          "base_uri": "https://localhost:8080/"
        },
        "id": "KpGhU15gpfHg",
        "outputId": "16b1203c-953d-4d25-f630-2386ae282200"
      },
      "outputs": [
        {
          "output_type": "stream",
          "name": "stdout",
          "text": [
            "0.965326112164278\n",
            "{'k': 20, 'min_k': 3, 'sim_options': {'name': 'msd', 'user_based': True}}\n"
          ]
        }
      ],
      "source": [
        "#remove _______ and complete the code\n",
        "\n",
        "# setting up parameter grid to tune the hyperparameters\n",
        "param_grid = {'k': [20, 30, 40], 'min_k': [3, 6, 9],\n",
        "              'sim_options': {'name': ['msd', 'cosine'],\n",
        "                              'user_based': [True]}}\n",
        "\n",
        "# performing 3-fold cross validation to tune the hyperparameters\n",
        "grid_obj = GridSearchCV(KNNBasic, param_grid, measures=['rmse', 'mae'], cv=3, n_jobs=-1)\n",
        "\n",
        "# fitting the data\n",
        "grid_obj.fit(data)\n",
        "\n",
        "# best RMSE score\n",
        "print(grid_obj.best_score['rmse'])\n",
        "\n",
        "# combination of parameters that gave the best RMSE score\n",
        "print(grid_obj.best_params['rmse'])"
      ]
    },
    {
      "cell_type": "markdown",
      "metadata": {
        "id": "L2fHNvu7nVNF"
      },
      "source": [
        "Once the grid search is complete, we can get the optimal values for each of those hyperparameters as shown above"
      ]
    },
    {
      "cell_type": "markdown",
      "metadata": {
        "id": "h_K6yd6XnVNF"
      },
      "source": [
        "Below we are analysing evaluation metrics - RMSE and MAE at each and every split to analyze the impact of each value of hyperparameters"
      ]
    },
    {
      "cell_type": "code",
      "execution_count": 112,
      "metadata": {
        "colab": {
          "base_uri": "https://localhost:8080/",
          "height": 531
        },
        "id": "TzJxk_Z4q1A8",
        "outputId": "544a8217-5bf9-4efa-95ab-c05c04cdfe0d"
      },
      "outputs": [
        {
          "output_type": "execute_result",
          "data": {
            "text/html": [
              "\n",
              "  <div id=\"df-3cb7f350-cad0-411a-b206-456df47452b4\">\n",
              "    <div class=\"colab-df-container\">\n",
              "      <div>\n",
              "<style scoped>\n",
              "    .dataframe tbody tr th:only-of-type {\n",
              "        vertical-align: middle;\n",
              "    }\n",
              "\n",
              "    .dataframe tbody tr th {\n",
              "        vertical-align: top;\n",
              "    }\n",
              "\n",
              "    .dataframe thead th {\n",
              "        text-align: right;\n",
              "    }\n",
              "</style>\n",
              "<table border=\"1\" class=\"dataframe\">\n",
              "  <thead>\n",
              "    <tr style=\"text-align: right;\">\n",
              "      <th></th>\n",
              "      <th>split0_test_rmse</th>\n",
              "      <th>split1_test_rmse</th>\n",
              "      <th>split2_test_rmse</th>\n",
              "      <th>mean_test_rmse</th>\n",
              "      <th>std_test_rmse</th>\n",
              "      <th>rank_test_rmse</th>\n",
              "      <th>split0_test_mae</th>\n",
              "      <th>split1_test_mae</th>\n",
              "      <th>split2_test_mae</th>\n",
              "      <th>mean_test_mae</th>\n",
              "      <th>std_test_mae</th>\n",
              "      <th>rank_test_mae</th>\n",
              "      <th>mean_fit_time</th>\n",
              "      <th>std_fit_time</th>\n",
              "      <th>mean_test_time</th>\n",
              "      <th>std_test_time</th>\n",
              "      <th>params</th>\n",
              "      <th>param_k</th>\n",
              "      <th>param_min_k</th>\n",
              "      <th>param_sim_options</th>\n",
              "    </tr>\n",
              "  </thead>\n",
              "  <tbody>\n",
              "    <tr>\n",
              "      <th>0</th>\n",
              "      <td>0.971648</td>\n",
              "      <td>0.962225</td>\n",
              "      <td>0.962106</td>\n",
              "      <td>0.965326</td>\n",
              "      <td>0.004470</td>\n",
              "      <td>1</td>\n",
              "      <td>0.748923</td>\n",
              "      <td>0.739220</td>\n",
              "      <td>0.739534</td>\n",
              "      <td>0.742559</td>\n",
              "      <td>0.004502</td>\n",
              "      <td>1</td>\n",
              "      <td>0.195988</td>\n",
              "      <td>0.051117</td>\n",
              "      <td>4.236453</td>\n",
              "      <td>0.078408</td>\n",
              "      <td>{'k': 20, 'min_k': 3, 'sim_options': {'name': ...</td>\n",
              "      <td>20</td>\n",
              "      <td>3</td>\n",
              "      <td>{'name': 'msd', 'user_based': True}</td>\n",
              "    </tr>\n",
              "    <tr>\n",
              "      <th>1</th>\n",
              "      <td>1.000989</td>\n",
              "      <td>0.992029</td>\n",
              "      <td>0.990821</td>\n",
              "      <td>0.994613</td>\n",
              "      <td>0.004535</td>\n",
              "      <td>14</td>\n",
              "      <td>0.775814</td>\n",
              "      <td>0.766662</td>\n",
              "      <td>0.765736</td>\n",
              "      <td>0.769404</td>\n",
              "      <td>0.004548</td>\n",
              "      <td>14</td>\n",
              "      <td>0.893408</td>\n",
              "      <td>0.024700</td>\n",
              "      <td>4.033281</td>\n",
              "      <td>0.165996</td>\n",
              "      <td>{'k': 20, 'min_k': 3, 'sim_options': {'name': ...</td>\n",
              "      <td>20</td>\n",
              "      <td>3</td>\n",
              "      <td>{'name': 'cosine', 'user_based': True}</td>\n",
              "    </tr>\n",
              "    <tr>\n",
              "      <th>2</th>\n",
              "      <td>0.972998</td>\n",
              "      <td>0.965254</td>\n",
              "      <td>0.965111</td>\n",
              "      <td>0.967788</td>\n",
              "      <td>0.003685</td>\n",
              "      <td>3</td>\n",
              "      <td>0.750296</td>\n",
              "      <td>0.741931</td>\n",
              "      <td>0.741208</td>\n",
              "      <td>0.744478</td>\n",
              "      <td>0.004124</td>\n",
              "      <td>2</td>\n",
              "      <td>0.197473</td>\n",
              "      <td>0.050647</td>\n",
              "      <td>3.920666</td>\n",
              "      <td>0.255585</td>\n",
              "      <td>{'k': 20, 'min_k': 6, 'sim_options': {'name': ...</td>\n",
              "      <td>20</td>\n",
              "      <td>6</td>\n",
              "      <td>{'name': 'msd', 'user_based': True}</td>\n",
              "    </tr>\n",
              "    <tr>\n",
              "      <th>3</th>\n",
              "      <td>1.000872</td>\n",
              "      <td>0.993757</td>\n",
              "      <td>0.992389</td>\n",
              "      <td>0.995673</td>\n",
              "      <td>0.003719</td>\n",
              "      <td>15</td>\n",
              "      <td>0.776064</td>\n",
              "      <td>0.768228</td>\n",
              "      <td>0.766221</td>\n",
              "      <td>0.770171</td>\n",
              "      <td>0.004247</td>\n",
              "      <td>15</td>\n",
              "      <td>0.828767</td>\n",
              "      <td>0.124751</td>\n",
              "      <td>4.155403</td>\n",
              "      <td>0.292618</td>\n",
              "      <td>{'k': 20, 'min_k': 6, 'sim_options': {'name': ...</td>\n",
              "      <td>20</td>\n",
              "      <td>6</td>\n",
              "      <td>{'name': 'cosine', 'user_based': True}</td>\n",
              "    </tr>\n",
              "    <tr>\n",
              "      <th>4</th>\n",
              "      <td>0.978949</td>\n",
              "      <td>0.972160</td>\n",
              "      <td>0.971166</td>\n",
              "      <td>0.974091</td>\n",
              "      <td>0.003458</td>\n",
              "      <td>7</td>\n",
              "      <td>0.754728</td>\n",
              "      <td>0.747847</td>\n",
              "      <td>0.746070</td>\n",
              "      <td>0.749548</td>\n",
              "      <td>0.003734</td>\n",
              "      <td>6</td>\n",
              "      <td>0.223338</td>\n",
              "      <td>0.055023</td>\n",
              "      <td>3.989468</td>\n",
              "      <td>0.175897</td>\n",
              "      <td>{'k': 20, 'min_k': 9, 'sim_options': {'name': ...</td>\n",
              "      <td>20</td>\n",
              "      <td>9</td>\n",
              "      <td>{'name': 'msd', 'user_based': True}</td>\n",
              "    </tr>\n",
              "  </tbody>\n",
              "</table>\n",
              "</div>\n",
              "      <button class=\"colab-df-convert\" onclick=\"convertToInteractive('df-3cb7f350-cad0-411a-b206-456df47452b4')\"\n",
              "              title=\"Convert this dataframe to an interactive table.\"\n",
              "              style=\"display:none;\">\n",
              "        \n",
              "  <svg xmlns=\"http://www.w3.org/2000/svg\" height=\"24px\"viewBox=\"0 0 24 24\"\n",
              "       width=\"24px\">\n",
              "    <path d=\"M0 0h24v24H0V0z\" fill=\"none\"/>\n",
              "    <path d=\"M18.56 5.44l.94 2.06.94-2.06 2.06-.94-2.06-.94-.94-2.06-.94 2.06-2.06.94zm-11 1L8.5 8.5l.94-2.06 2.06-.94-2.06-.94L8.5 2.5l-.94 2.06-2.06.94zm10 10l.94 2.06.94-2.06 2.06-.94-2.06-.94-.94-2.06-.94 2.06-2.06.94z\"/><path d=\"M17.41 7.96l-1.37-1.37c-.4-.4-.92-.59-1.43-.59-.52 0-1.04.2-1.43.59L10.3 9.45l-7.72 7.72c-.78.78-.78 2.05 0 2.83L4 21.41c.39.39.9.59 1.41.59.51 0 1.02-.2 1.41-.59l7.78-7.78 2.81-2.81c.8-.78.8-2.07 0-2.86zM5.41 20L4 18.59l7.72-7.72 1.47 1.35L5.41 20z\"/>\n",
              "  </svg>\n",
              "      </button>\n",
              "      \n",
              "  <style>\n",
              "    .colab-df-container {\n",
              "      display:flex;\n",
              "      flex-wrap:wrap;\n",
              "      gap: 12px;\n",
              "    }\n",
              "\n",
              "    .colab-df-convert {\n",
              "      background-color: #E8F0FE;\n",
              "      border: none;\n",
              "      border-radius: 50%;\n",
              "      cursor: pointer;\n",
              "      display: none;\n",
              "      fill: #1967D2;\n",
              "      height: 32px;\n",
              "      padding: 0 0 0 0;\n",
              "      width: 32px;\n",
              "    }\n",
              "\n",
              "    .colab-df-convert:hover {\n",
              "      background-color: #E2EBFA;\n",
              "      box-shadow: 0px 1px 2px rgba(60, 64, 67, 0.3), 0px 1px 3px 1px rgba(60, 64, 67, 0.15);\n",
              "      fill: #174EA6;\n",
              "    }\n",
              "\n",
              "    [theme=dark] .colab-df-convert {\n",
              "      background-color: #3B4455;\n",
              "      fill: #D2E3FC;\n",
              "    }\n",
              "\n",
              "    [theme=dark] .colab-df-convert:hover {\n",
              "      background-color: #434B5C;\n",
              "      box-shadow: 0px 1px 3px 1px rgba(0, 0, 0, 0.15);\n",
              "      filter: drop-shadow(0px 1px 2px rgba(0, 0, 0, 0.3));\n",
              "      fill: #FFFFFF;\n",
              "    }\n",
              "  </style>\n",
              "\n",
              "      <script>\n",
              "        const buttonEl =\n",
              "          document.querySelector('#df-3cb7f350-cad0-411a-b206-456df47452b4 button.colab-df-convert');\n",
              "        buttonEl.style.display =\n",
              "          google.colab.kernel.accessAllowed ? 'block' : 'none';\n",
              "\n",
              "        async function convertToInteractive(key) {\n",
              "          const element = document.querySelector('#df-3cb7f350-cad0-411a-b206-456df47452b4');\n",
              "          const dataTable =\n",
              "            await google.colab.kernel.invokeFunction('convertToInteractive',\n",
              "                                                     [key], {});\n",
              "          if (!dataTable) return;\n",
              "\n",
              "          const docLinkHtml = 'Like what you see? Visit the ' +\n",
              "            '<a target=\"_blank\" href=https://colab.research.google.com/notebooks/data_table.ipynb>data table notebook</a>'\n",
              "            + ' to learn more about interactive tables.';\n",
              "          element.innerHTML = '';\n",
              "          dataTable['output_type'] = 'display_data';\n",
              "          await google.colab.output.renderOutput(dataTable, element);\n",
              "          const docLink = document.createElement('div');\n",
              "          docLink.innerHTML = docLinkHtml;\n",
              "          element.appendChild(docLink);\n",
              "        }\n",
              "      </script>\n",
              "    </div>\n",
              "  </div>\n",
              "  "
            ],
            "text/plain": [
              "   split0_test_rmse  ...                       param_sim_options\n",
              "0          0.971648  ...     {'name': 'msd', 'user_based': True}\n",
              "1          1.000989  ...  {'name': 'cosine', 'user_based': True}\n",
              "2          0.972998  ...     {'name': 'msd', 'user_based': True}\n",
              "3          1.000872  ...  {'name': 'cosine', 'user_based': True}\n",
              "4          0.978949  ...     {'name': 'msd', 'user_based': True}\n",
              "\n",
              "[5 rows x 20 columns]"
            ]
          },
          "metadata": {},
          "execution_count": 112
        }
      ],
      "source": [
        "results_df = pd.DataFrame.from_dict(grid_obj.cv_results)\n",
        "results_df.head()"
      ]
    },
    {
      "cell_type": "markdown",
      "metadata": {
        "id": "NHWgxu_YnVNG"
      },
      "source": [
        "Now we will building final model by using tuned values of the hyperparameters which we received by using grid search cross validation"
      ]
    },
    {
      "cell_type": "code",
      "execution_count": 113,
      "metadata": {
        "colab": {
          "base_uri": "https://localhost:8080/"
        },
        "id": "PujRJA8X_JEJ",
        "outputId": "ca4428f9-5be2-40a4-9bf7-b9039d6f4c29"
      },
      "outputs": [
        {
          "output_type": "stream",
          "name": "stdout",
          "text": [
            "RMSE: 0.9908\n"
          ]
        },
        {
          "output_type": "execute_result",
          "data": {
            "text/plain": [
              "0.9907613369496804"
            ]
          },
          "metadata": {},
          "execution_count": 113
        }
      ],
      "source": [
        "#remove _______ and complete the code\n",
        "sim_options = {'name': 'cosine',\n",
        "               'user_based': True}\n",
        "# using the optimal similarity measure for user-user based collaborative filtering\n",
        "# creating an instance of KNNBasic with optimal hyperparameter values\n",
        "similarity_algo_optimized_user = KNNBasic(sim_options=sim_options, k=40, min_k=6,verbose=False)\n",
        "\n",
        "# training the algorithm on the trainset\n",
        "similarity_algo_optimized_user.fit(trainset)\n",
        "\n",
        "# predicting ratings for the testset\n",
        "predictions = similarity_algo_optimized_user.test(testset)\n",
        "\n",
        "# computing RMSE on testset\n",
        "accuracy.rmse(predictions)"
      ]
    },
    {
      "cell_type": "markdown",
      "metadata": {
        "id": "YA37vQ6qnVNG"
      },
      "source": [
        "**Write your Answer here:__________**"
      ]
    },
    {
      "cell_type": "markdown",
      "metadata": {
        "id": "3gZQybgVwIB1"
      },
      "source": [
        "#### Q 3.4 What is the Predicted rating for an user with userId =4 and for movieId= 10 and movieId=3 using tuned user based collaborative filtering? (1 Mark)"
      ]
    },
    {
      "cell_type": "markdown",
      "metadata": {
        "id": "YhcAXK0CnVNG"
      },
      "source": [
        "#### Let's us now predict rating for an user with `userId=4` and for `movieId=10` with the optimized model"
      ]
    },
    {
      "cell_type": "code",
      "execution_count": 114,
      "metadata": {
        "colab": {
          "base_uri": "https://localhost:8080/"
        },
        "id": "FgV63lHiq1TV",
        "outputId": "4bf2b4ed-124e-4a3f-9904-7f4b1533e7b7"
      },
      "outputs": [
        {
          "output_type": "stream",
          "name": "stdout",
          "text": [
            "user: 4          item: 10         r_ui = 4.00   est = 3.62   {'actual_k': 40, 'was_impossible': False}\n"
          ]
        },
        {
          "output_type": "execute_result",
          "data": {
            "text/plain": [
              "Prediction(uid=4, iid=10, r_ui=4, est=3.6244912065910952, details={'actual_k': 40, 'was_impossible': False})"
            ]
          },
          "metadata": {},
          "execution_count": 114
        }
      ],
      "source": [
        "#remove _______ and complete the code\n",
        "similarity_algo_optimized_user.predict(4,10, r_ui=4, verbose=True)"
      ]
    },
    {
      "cell_type": "markdown",
      "metadata": {
        "id": "AMBeqeUtnVNG"
      },
      "source": [
        "**Write your Answer here:______**"
      ]
    },
    {
      "cell_type": "markdown",
      "metadata": {
        "id": "P1JLqz6mnVNH"
      },
      "source": [
        "Below we are predicting rating for the same `userId=4` but for a movie which this user has not interacted before i.e. `movieId=3`, by using the optimized model as shown below - "
      ]
    },
    {
      "cell_type": "code",
      "execution_count": 115,
      "metadata": {
        "colab": {
          "base_uri": "https://localhost:8080/"
        },
        "id": "HXO2Ztjhq1bN",
        "outputId": "fa224672-4bd8-478c-ba04-6007eccbfcf6"
      },
      "outputs": [
        {
          "output_type": "stream",
          "name": "stdout",
          "text": [
            "user: 4          item: 3          r_ui = None   est = 3.20   {'actual_k': 40, 'was_impossible': False}\n"
          ]
        },
        {
          "output_type": "execute_result",
          "data": {
            "text/plain": [
              "Prediction(uid=4, iid=3, r_ui=None, est=3.202703552548654, details={'actual_k': 40, 'was_impossible': False})"
            ]
          },
          "metadata": {},
          "execution_count": 115
        }
      ],
      "source": [
        "#remove _______ and complete the code\n",
        "similarity_algo_optimized_user.predict(4,3, verbose=True)"
      ]
    },
    {
      "cell_type": "markdown",
      "metadata": {
        "id": "PN_tYvepnVNH"
      },
      "source": [
        "**Write your Answer here:________**"
      ]
    },
    {
      "cell_type": "markdown",
      "metadata": {
        "id": "o2QsfqhanVNH"
      },
      "source": [
        "#### Identifying similar users to a given user (nearest neighbors)\n",
        "We can also find out the similar users to a given user or its nearest neighbors based on this KNNBasic algorithm. Below we are finding 5 most similar user to the `userId=4` based on the `msd` distance metric"
      ]
    },
    {
      "cell_type": "code",
      "execution_count": 116,
      "metadata": {
        "colab": {
          "base_uri": "https://localhost:8080/"
        },
        "id": "evkmTb6P5HYO",
        "outputId": "ea81538f-0aea-4c3d-b304-349e29923d64"
      },
      "outputs": [
        {
          "output_type": "execute_result",
          "data": {
            "text/plain": [
              "[357, 220, 590, 491, 647]"
            ]
          },
          "metadata": {},
          "execution_count": 116
        }
      ],
      "source": [
        "similarity_algo_optimized_user.get_neighbors(4, k=5)"
      ]
    },
    {
      "cell_type": "markdown",
      "metadata": {
        "id": "Z0NsrX_anVNH"
      },
      "source": [
        "#### Implementing the recommendation algorithm based on optimized KNNBasic model"
      ]
    },
    {
      "cell_type": "markdown",
      "metadata": {
        "id": "U3ESobDynVNI"
      },
      "source": [
        "Below we will be implementing a function where the input parameters are - \n",
        "\n",
        "- data: a rating dataset\n",
        "- user_id: an user id against which we want the recommendations\n",
        "- top_n: the number of movies we want to recommend\n",
        "- algo: the algorithm we want to use to predict the ratings"
      ]
    },
    {
      "cell_type": "code",
      "execution_count": 117,
      "metadata": {
        "id": "vW9V1Tk65HlY"
      },
      "outputs": [],
      "source": [
        "def get_recommendations(data, user_id, top_n, algo):\n",
        "    \n",
        "    # creating an empty list to store the recommended movie ids\n",
        "    recommendations = []\n",
        "    \n",
        "    # creating an user item interactions matrix \n",
        "    user_item_interactions_matrix = data.pivot(index='userId', columns='movieId', values='rating')\n",
        "    \n",
        "    # extracting those movie ids which the user_id has not interacted yet\n",
        "    non_interacted_movies = user_item_interactions_matrix.loc[user_id][user_item_interactions_matrix.loc[user_id].isnull()].index.tolist()\n",
        "    \n",
        "    # looping through each of the movie id which user_id has not interacted yet\n",
        "    for item_id in non_interacted_movies:\n",
        "        \n",
        "        # predicting the ratings for those non interacted movie ids by this user\n",
        "        est = algo.predict(user_id, item_id).est\n",
        "        \n",
        "        # appending the predicted ratings\n",
        "        recommendations.append((item_id, est))\n",
        "\n",
        "    # sorting the predicted ratings in descending order\n",
        "    recommendations.sort(key=lambda x: x[1], reverse=True)\n",
        "\n",
        "    return recommendations[:top_n] # returing top n highest predicted rating movies for this user"
      ]
    },
    {
      "cell_type": "markdown",
      "metadata": {
        "id": "Oj_S7kh4nVNI"
      },
      "source": [
        "#### Predicted top 5 movies for userId=4 with similarity based recommendation system"
      ]
    },
    {
      "cell_type": "code",
      "execution_count": 120,
      "metadata": {
        "id": "qWbR85mI5Hrk"
      },
      "outputs": [],
      "source": [
        "#remove _______ and complete the code\n",
        "recommendations = get_recommendations(rating,4,5,similarity_algo_optimized_user)"
      ]
    },
    {
      "cell_type": "markdown",
      "metadata": {
        "id": "33GchLEiwICA"
      },
      "source": [
        "#### Q 3.5 Predict the top 5 movies for userId=4 with similarity based recommendation system (1 Mark)"
      ]
    },
    {
      "cell_type": "code",
      "execution_count": 121,
      "metadata": {
        "colab": {
          "base_uri": "https://localhost:8080/"
        },
        "id": "b5WfIX0Z6_q2",
        "outputId": "c444ff72-51df-425b-93f8-a671a3ccc36c"
      },
      "outputs": [
        {
          "output_type": "execute_result",
          "data": {
            "text/plain": [
              "[(98491, 4.832340578646058),\n",
              " (116, 4.753206589295344),\n",
              " (6669, 4.748048450384675),\n",
              " (1221, 4.662571141751736),\n",
              " (1192, 4.65824768595177)]"
            ]
          },
          "metadata": {},
          "execution_count": 121
        }
      ],
      "source": [
        "recommendations"
      ]
    },
    {
      "cell_type": "markdown",
      "metadata": {
        "id": "pqm4J6aQwICB"
      },
      "source": [
        "### Model 3 Item based Collaborative Filtering Recommendation System (7 Marks)"
      ]
    },
    {
      "cell_type": "code",
      "execution_count": 122,
      "metadata": {
        "id": "fa8W64l5wICB",
        "outputId": "1d432590-5367-4801-ff30-bf7a7c0786a9",
        "colab": {
          "base_uri": "https://localhost:8080/"
        }
      },
      "outputs": [
        {
          "output_type": "stream",
          "name": "stdout",
          "text": [
            "RMSE: 1.0032\n"
          ]
        },
        {
          "output_type": "execute_result",
          "data": {
            "text/plain": [
              "1.003221450633729"
            ]
          },
          "metadata": {},
          "execution_count": 122
        }
      ],
      "source": [
        "#remove _______ and complete the code\n",
        "\n",
        "#definfing similarity measure\n",
        "sim_options = {'name': 'cosine',\n",
        "               'user_based': False}\n",
        "\n",
        "#defining Nearest neighbour algorithm\n",
        "algo_knn_item = KNNBasic(sim_options=sim_options,verbose=False)\n",
        "\n",
        "# Train the algorithm on the trainset or fitting the model on train dataset \n",
        "algo_knn_item.fit(trainset)\n",
        "\n",
        "#predict ratings for the testset\n",
        "predictions = algo_knn_item.test(testset)\n",
        "\n",
        "# Then compute RMSE\n",
        "accuracy.rmse(predictions)"
      ]
    },
    {
      "cell_type": "markdown",
      "metadata": {
        "id": "oW6HXjoVwICC"
      },
      "source": [
        "#### Q 4.1 What is the RMSE for baseline item based collaborative filtering recommendation system (1 Mark)"
      ]
    },
    {
      "cell_type": "markdown",
      "metadata": {
        "id": "dsagkpFDwICD"
      },
      "source": [
        "**Write your Answer here:__________**\n",
        "\n",
        "#### Let's us now predict rating for an user with `userId=4` and for `movieId=10`"
      ]
    },
    {
      "cell_type": "markdown",
      "metadata": {
        "id": "egyW6VMYwICD"
      },
      "source": [
        "#### Q 4.2 What is the Predicted  rating for an user with userId =4 and for movieId= 10 and movieId=3? (1 Mark)"
      ]
    },
    {
      "cell_type": "code",
      "execution_count": 123,
      "metadata": {
        "id": "RmzxmaDbwICE",
        "outputId": "0eea0f71-6ee4-4e49-a729-160a4fe858e5",
        "scrolled": true,
        "colab": {
          "base_uri": "https://localhost:8080/"
        }
      },
      "outputs": [
        {
          "output_type": "stream",
          "name": "stdout",
          "text": [
            "user: 4          item: 10         r_ui = 4.00   est = 4.37   {'actual_k': 40, 'was_impossible': False}\n"
          ]
        },
        {
          "output_type": "execute_result",
          "data": {
            "text/plain": [
              "Prediction(uid=4, iid=10, r_ui=4, est=4.373794871885004, details={'actual_k': 40, 'was_impossible': False})"
            ]
          },
          "metadata": {},
          "execution_count": 123
        }
      ],
      "source": [
        "#remove _______ and complete the code\n",
        "algo_knn_item.predict(4,10, r_ui=4, verbose=True)"
      ]
    },
    {
      "cell_type": "markdown",
      "metadata": {
        "id": "fyPeJdK6wICF"
      },
      "source": [
        "As we can see - the actual rating for this user-item pair is 4 and predicted rating is 4.37 by this similarity based baseline model"
      ]
    },
    {
      "cell_type": "markdown",
      "metadata": {
        "id": "CTSx7Wl5wICG"
      },
      "source": [
        "#### Let's predict  the rating for the same `userId=4` but for a movie which this user has not interacted before i.e. `movieId=3`"
      ]
    },
    {
      "cell_type": "code",
      "execution_count": 124,
      "metadata": {
        "id": "-l8G1XG5wICG",
        "outputId": "95fe5a2f-90a1-4c4b-959f-73a6749fb26f",
        "colab": {
          "base_uri": "https://localhost:8080/"
        }
      },
      "outputs": [
        {
          "output_type": "stream",
          "name": "stdout",
          "text": [
            "user: 4          item: 3          r_ui = None   est = 4.07   {'actual_k': 40, 'was_impossible': False}\n"
          ]
        },
        {
          "output_type": "execute_result",
          "data": {
            "text/plain": [
              "Prediction(uid=4, iid=3, r_ui=None, est=4.071601862880049, details={'actual_k': 40, 'was_impossible': False})"
            ]
          },
          "metadata": {},
          "execution_count": 124
        }
      ],
      "source": [
        "#remove _______ and complete the code\n",
        "algo_knn_item.predict(4,3, verbose=True)"
      ]
    },
    {
      "cell_type": "markdown",
      "metadata": {
        "id": "WKqI9IyhwICH"
      },
      "source": [
        "As we can see the estimated rating for this user-item pair is 4.07 based on this similarity based baseline model"
      ]
    },
    {
      "cell_type": "markdown",
      "metadata": {
        "id": "utHBZ67JwICI"
      },
      "source": [
        "#### Q 4.3 Perform hyperparameter tuning for the baseline item based collaborative filtering recommendation system and find the RMSE for tuned item based collaborative filtering recommendation system? (3 Marks)"
      ]
    },
    {
      "cell_type": "code",
      "execution_count": 126,
      "metadata": {
        "id": "0ZmIvW--wICJ",
        "outputId": "d17055ac-6ae7-4359-d608-bb41c5439878",
        "colab": {
          "base_uri": "https://localhost:8080/"
        }
      },
      "outputs": [
        {
          "output_type": "stream",
          "name": "stdout",
          "text": [
            "0.940058614286649\n",
            "{'k': 40, 'min_k': 6, 'sim_options': {'name': 'msd', 'user_based': False}}\n"
          ]
        }
      ],
      "source": [
        "#remove _______ and complete the code\n",
        "\n",
        "# setting up parameter grid to tune the hyperparameters\n",
        "param_grid = {'k': [20, 30,40], 'min_k': [3,6,9],\n",
        "              'sim_options': {'name': ['msd', 'cosine'],\n",
        "                              'user_based': [False]}}\n",
        "\n",
        "# performing 3-fold cross validation to tune the hyperparameters\n",
        "grid_obj = GridSearchCV(KNNBasic, param_grid, measures=['rmse', 'mae'], cv=3, n_jobs=-1)\n",
        "\n",
        "# fitting the data\n",
        "grid_obj.fit(data)\n",
        "\n",
        "# best RMSE score\n",
        "print(grid_obj.best_score['rmse'])\n",
        "\n",
        "# combination of parameters that gave the best RMSE score\n",
        "print(grid_obj.best_params['rmse'])"
      ]
    },
    {
      "cell_type": "markdown",
      "metadata": {
        "id": "_uAej6IMwICK"
      },
      "source": [
        "Once the grid search is complete, we can get the optimal values for each of those hyperparameters as shown above:"
      ]
    },
    {
      "cell_type": "markdown",
      "metadata": {
        "id": "2W3LQWA9wICK"
      },
      "source": [
        "Below we are analysing evaluation metrics - RMSE and MAE at each and every split to analyze the impact of each value of hyperparameters"
      ]
    },
    {
      "cell_type": "code",
      "execution_count": 127,
      "metadata": {
        "id": "ITKMae3LwICL",
        "outputId": "400c3b02-e525-417f-93d6-81edabee188c",
        "scrolled": false,
        "colab": {
          "base_uri": "https://localhost:8080/",
          "height": 531
        }
      },
      "outputs": [
        {
          "output_type": "execute_result",
          "data": {
            "text/html": [
              "\n",
              "  <div id=\"df-a9525dbd-b3b7-432e-a4b6-3d33ae0f0ef0\">\n",
              "    <div class=\"colab-df-container\">\n",
              "      <div>\n",
              "<style scoped>\n",
              "    .dataframe tbody tr th:only-of-type {\n",
              "        vertical-align: middle;\n",
              "    }\n",
              "\n",
              "    .dataframe tbody tr th {\n",
              "        vertical-align: top;\n",
              "    }\n",
              "\n",
              "    .dataframe thead th {\n",
              "        text-align: right;\n",
              "    }\n",
              "</style>\n",
              "<table border=\"1\" class=\"dataframe\">\n",
              "  <thead>\n",
              "    <tr style=\"text-align: right;\">\n",
              "      <th></th>\n",
              "      <th>split0_test_rmse</th>\n",
              "      <th>split1_test_rmse</th>\n",
              "      <th>split2_test_rmse</th>\n",
              "      <th>mean_test_rmse</th>\n",
              "      <th>std_test_rmse</th>\n",
              "      <th>rank_test_rmse</th>\n",
              "      <th>split0_test_mae</th>\n",
              "      <th>split1_test_mae</th>\n",
              "      <th>split2_test_mae</th>\n",
              "      <th>mean_test_mae</th>\n",
              "      <th>std_test_mae</th>\n",
              "      <th>rank_test_mae</th>\n",
              "      <th>mean_fit_time</th>\n",
              "      <th>std_fit_time</th>\n",
              "      <th>mean_test_time</th>\n",
              "      <th>std_test_time</th>\n",
              "      <th>params</th>\n",
              "      <th>param_k</th>\n",
              "      <th>param_min_k</th>\n",
              "      <th>param_sim_options</th>\n",
              "    </tr>\n",
              "  </thead>\n",
              "  <tbody>\n",
              "    <tr>\n",
              "      <th>0</th>\n",
              "      <td>0.947691</td>\n",
              "      <td>0.956602</td>\n",
              "      <td>0.947210</td>\n",
              "      <td>0.950501</td>\n",
              "      <td>0.004318</td>\n",
              "      <td>8</td>\n",
              "      <td>0.732094</td>\n",
              "      <td>0.738320</td>\n",
              "      <td>0.733016</td>\n",
              "      <td>0.734477</td>\n",
              "      <td>0.002743</td>\n",
              "      <td>7</td>\n",
              "      <td>9.797294</td>\n",
              "      <td>0.648107</td>\n",
              "      <td>14.761535</td>\n",
              "      <td>1.192202</td>\n",
              "      <td>{'k': 20, 'min_k': 3, 'sim_options': {'name': ...</td>\n",
              "      <td>20</td>\n",
              "      <td>3</td>\n",
              "      <td>{'name': 'msd', 'user_based': False}</td>\n",
              "    </tr>\n",
              "    <tr>\n",
              "      <th>1</th>\n",
              "      <td>1.011519</td>\n",
              "      <td>1.018759</td>\n",
              "      <td>1.008665</td>\n",
              "      <td>1.012981</td>\n",
              "      <td>0.004249</td>\n",
              "      <td>17</td>\n",
              "      <td>0.790525</td>\n",
              "      <td>0.793680</td>\n",
              "      <td>0.786846</td>\n",
              "      <td>0.790350</td>\n",
              "      <td>0.002793</td>\n",
              "      <td>16</td>\n",
              "      <td>32.388511</td>\n",
              "      <td>5.890585</td>\n",
              "      <td>17.225738</td>\n",
              "      <td>1.416039</td>\n",
              "      <td>{'k': 20, 'min_k': 3, 'sim_options': {'name': ...</td>\n",
              "      <td>20</td>\n",
              "      <td>3</td>\n",
              "      <td>{'name': 'cosine', 'user_based': False}</td>\n",
              "    </tr>\n",
              "    <tr>\n",
              "      <th>2</th>\n",
              "      <td>0.947908</td>\n",
              "      <td>0.956561</td>\n",
              "      <td>0.946502</td>\n",
              "      <td>0.950324</td>\n",
              "      <td>0.004448</td>\n",
              "      <td>7</td>\n",
              "      <td>0.732389</td>\n",
              "      <td>0.738386</td>\n",
              "      <td>0.732872</td>\n",
              "      <td>0.734549</td>\n",
              "      <td>0.002721</td>\n",
              "      <td>8</td>\n",
              "      <td>7.490608</td>\n",
              "      <td>0.232105</td>\n",
              "      <td>15.610178</td>\n",
              "      <td>0.597897</td>\n",
              "      <td>{'k': 20, 'min_k': 6, 'sim_options': {'name': ...</td>\n",
              "      <td>20</td>\n",
              "      <td>6</td>\n",
              "      <td>{'name': 'msd', 'user_based': False}</td>\n",
              "    </tr>\n",
              "    <tr>\n",
              "      <th>3</th>\n",
              "      <td>1.011850</td>\n",
              "      <td>1.018720</td>\n",
              "      <td>1.008218</td>\n",
              "      <td>1.012929</td>\n",
              "      <td>0.004355</td>\n",
              "      <td>16</td>\n",
              "      <td>0.790907</td>\n",
              "      <td>0.793675</td>\n",
              "      <td>0.786818</td>\n",
              "      <td>0.790466</td>\n",
              "      <td>0.002816</td>\n",
              "      <td>17</td>\n",
              "      <td>23.087198</td>\n",
              "      <td>0.742426</td>\n",
              "      <td>15.986612</td>\n",
              "      <td>2.566624</td>\n",
              "      <td>{'k': 20, 'min_k': 6, 'sim_options': {'name': ...</td>\n",
              "      <td>20</td>\n",
              "      <td>6</td>\n",
              "      <td>{'name': 'cosine', 'user_based': False}</td>\n",
              "    </tr>\n",
              "    <tr>\n",
              "      <th>4</th>\n",
              "      <td>0.948338</td>\n",
              "      <td>0.957307</td>\n",
              "      <td>0.947642</td>\n",
              "      <td>0.951096</td>\n",
              "      <td>0.004401</td>\n",
              "      <td>9</td>\n",
              "      <td>0.732655</td>\n",
              "      <td>0.738954</td>\n",
              "      <td>0.733554</td>\n",
              "      <td>0.735054</td>\n",
              "      <td>0.002782</td>\n",
              "      <td>9</td>\n",
              "      <td>9.184299</td>\n",
              "      <td>2.395816</td>\n",
              "      <td>16.976204</td>\n",
              "      <td>2.296028</td>\n",
              "      <td>{'k': 20, 'min_k': 9, 'sim_options': {'name': ...</td>\n",
              "      <td>20</td>\n",
              "      <td>9</td>\n",
              "      <td>{'name': 'msd', 'user_based': False}</td>\n",
              "    </tr>\n",
              "  </tbody>\n",
              "</table>\n",
              "</div>\n",
              "      <button class=\"colab-df-convert\" onclick=\"convertToInteractive('df-a9525dbd-b3b7-432e-a4b6-3d33ae0f0ef0')\"\n",
              "              title=\"Convert this dataframe to an interactive table.\"\n",
              "              style=\"display:none;\">\n",
              "        \n",
              "  <svg xmlns=\"http://www.w3.org/2000/svg\" height=\"24px\"viewBox=\"0 0 24 24\"\n",
              "       width=\"24px\">\n",
              "    <path d=\"M0 0h24v24H0V0z\" fill=\"none\"/>\n",
              "    <path d=\"M18.56 5.44l.94 2.06.94-2.06 2.06-.94-2.06-.94-.94-2.06-.94 2.06-2.06.94zm-11 1L8.5 8.5l.94-2.06 2.06-.94-2.06-.94L8.5 2.5l-.94 2.06-2.06.94zm10 10l.94 2.06.94-2.06 2.06-.94-2.06-.94-.94-2.06-.94 2.06-2.06.94z\"/><path d=\"M17.41 7.96l-1.37-1.37c-.4-.4-.92-.59-1.43-.59-.52 0-1.04.2-1.43.59L10.3 9.45l-7.72 7.72c-.78.78-.78 2.05 0 2.83L4 21.41c.39.39.9.59 1.41.59.51 0 1.02-.2 1.41-.59l7.78-7.78 2.81-2.81c.8-.78.8-2.07 0-2.86zM5.41 20L4 18.59l7.72-7.72 1.47 1.35L5.41 20z\"/>\n",
              "  </svg>\n",
              "      </button>\n",
              "      \n",
              "  <style>\n",
              "    .colab-df-container {\n",
              "      display:flex;\n",
              "      flex-wrap:wrap;\n",
              "      gap: 12px;\n",
              "    }\n",
              "\n",
              "    .colab-df-convert {\n",
              "      background-color: #E8F0FE;\n",
              "      border: none;\n",
              "      border-radius: 50%;\n",
              "      cursor: pointer;\n",
              "      display: none;\n",
              "      fill: #1967D2;\n",
              "      height: 32px;\n",
              "      padding: 0 0 0 0;\n",
              "      width: 32px;\n",
              "    }\n",
              "\n",
              "    .colab-df-convert:hover {\n",
              "      background-color: #E2EBFA;\n",
              "      box-shadow: 0px 1px 2px rgba(60, 64, 67, 0.3), 0px 1px 3px 1px rgba(60, 64, 67, 0.15);\n",
              "      fill: #174EA6;\n",
              "    }\n",
              "\n",
              "    [theme=dark] .colab-df-convert {\n",
              "      background-color: #3B4455;\n",
              "      fill: #D2E3FC;\n",
              "    }\n",
              "\n",
              "    [theme=dark] .colab-df-convert:hover {\n",
              "      background-color: #434B5C;\n",
              "      box-shadow: 0px 1px 3px 1px rgba(0, 0, 0, 0.15);\n",
              "      filter: drop-shadow(0px 1px 2px rgba(0, 0, 0, 0.3));\n",
              "      fill: #FFFFFF;\n",
              "    }\n",
              "  </style>\n",
              "\n",
              "      <script>\n",
              "        const buttonEl =\n",
              "          document.querySelector('#df-a9525dbd-b3b7-432e-a4b6-3d33ae0f0ef0 button.colab-df-convert');\n",
              "        buttonEl.style.display =\n",
              "          google.colab.kernel.accessAllowed ? 'block' : 'none';\n",
              "\n",
              "        async function convertToInteractive(key) {\n",
              "          const element = document.querySelector('#df-a9525dbd-b3b7-432e-a4b6-3d33ae0f0ef0');\n",
              "          const dataTable =\n",
              "            await google.colab.kernel.invokeFunction('convertToInteractive',\n",
              "                                                     [key], {});\n",
              "          if (!dataTable) return;\n",
              "\n",
              "          const docLinkHtml = 'Like what you see? Visit the ' +\n",
              "            '<a target=\"_blank\" href=https://colab.research.google.com/notebooks/data_table.ipynb>data table notebook</a>'\n",
              "            + ' to learn more about interactive tables.';\n",
              "          element.innerHTML = '';\n",
              "          dataTable['output_type'] = 'display_data';\n",
              "          await google.colab.output.renderOutput(dataTable, element);\n",
              "          const docLink = document.createElement('div');\n",
              "          docLink.innerHTML = docLinkHtml;\n",
              "          element.appendChild(docLink);\n",
              "        }\n",
              "      </script>\n",
              "    </div>\n",
              "  </div>\n",
              "  "
            ],
            "text/plain": [
              "   split0_test_rmse  ...                        param_sim_options\n",
              "0          0.947691  ...     {'name': 'msd', 'user_based': False}\n",
              "1          1.011519  ...  {'name': 'cosine', 'user_based': False}\n",
              "2          0.947908  ...     {'name': 'msd', 'user_based': False}\n",
              "3          1.011850  ...  {'name': 'cosine', 'user_based': False}\n",
              "4          0.948338  ...     {'name': 'msd', 'user_based': False}\n",
              "\n",
              "[5 rows x 20 columns]"
            ]
          },
          "metadata": {},
          "execution_count": 127
        }
      ],
      "source": [
        "results_df = pd.DataFrame.from_dict(grid_obj.cv_results)\n",
        "results_df.head()"
      ]
    },
    {
      "cell_type": "code",
      "execution_count": 129,
      "metadata": {
        "id": "46irii4pwICL",
        "outputId": "718469d4-ec3a-45e7-bc40-788f01afa251",
        "colab": {
          "base_uri": "https://localhost:8080/"
        }
      },
      "outputs": [
        {
          "output_type": "stream",
          "name": "stdout",
          "text": [
            "RMSE: 0.9433\n"
          ]
        },
        {
          "output_type": "execute_result",
          "data": {
            "text/plain": [
              "0.9433248796999978"
            ]
          },
          "metadata": {},
          "execution_count": 129
        }
      ],
      "source": [
        "#remove _______ and complete the code\n",
        "# creating an instance of KNNBasic with optimal hyperparameter values\n",
        "\n",
        "similarity_algo_optimized_item = KNNBasic(sim_options={'name': 'msd', 'user_based': False}, verbose=False)\n",
        "\n",
        "# training the algorithm on the trainset\n",
        "similarity_algo_optimized_item.fit(trainset)\n",
        "\n",
        "# predicting ratings for the testset\n",
        "predictions = similarity_algo_optimized_item.test(testset)\n",
        "\n",
        "# computing RMSE on testset\n",
        "accuracy.rmse(predictions)"
      ]
    },
    {
      "cell_type": "markdown",
      "metadata": {
        "id": "OTdrMpQUwICM"
      },
      "source": [
        "**Write your Answer here:__________**"
      ]
    },
    {
      "cell_type": "markdown",
      "metadata": {
        "id": "tiDcRQDvwICN"
      },
      "source": [
        "#### Q 4.4 What is the Predicted rating for an item with userId =4 and for movieId= 10 and movieId=3 using tuned item based collaborative filtering? (1 Mark)"
      ]
    },
    {
      "cell_type": "markdown",
      "metadata": {
        "id": "5IGjjEtpwICN"
      },
      "source": [
        "#### Let's us now predict rating for an user with `userId=4` and for `movieId=10` with the optimized model as shown below"
      ]
    },
    {
      "cell_type": "code",
      "execution_count": 130,
      "metadata": {
        "id": "Wg8APEG4wICO",
        "outputId": "a3da1e29-8711-47f7-f024-6ee47b64c29d",
        "colab": {
          "base_uri": "https://localhost:8080/"
        }
      },
      "outputs": [
        {
          "output_type": "stream",
          "name": "stdout",
          "text": [
            "user: 4          item: 10         r_ui = 4.00   est = 4.26   {'actual_k': 40, 'was_impossible': False}\n"
          ]
        },
        {
          "output_type": "execute_result",
          "data": {
            "text/plain": [
              "Prediction(uid=4, iid=10, r_ui=4, est=4.255054787154994, details={'actual_k': 40, 'was_impossible': False})"
            ]
          },
          "metadata": {},
          "execution_count": 130
        }
      ],
      "source": [
        "#remove _______ and complete the code\n",
        "similarity_algo_optimized_item.predict(4,10, r_ui=4, verbose=True)"
      ]
    },
    {
      "cell_type": "markdown",
      "metadata": {
        "id": "qUXl61_5wICP"
      },
      "source": [
        "**Write your Answer here:___________**"
      ]
    },
    {
      "cell_type": "markdown",
      "metadata": {
        "id": "HDNNs3cqwICP"
      },
      "source": [
        "#### Let's predict the rating for the same `userId=4` but for a movie which this user has not interacted before i.e. `movieId=3`, by using the optimized model:"
      ]
    },
    {
      "cell_type": "code",
      "execution_count": 131,
      "metadata": {
        "id": "oEew8TwvwICQ",
        "outputId": "2ad58aac-de49-4063-e695-7ad97c064b4e",
        "colab": {
          "base_uri": "https://localhost:8080/"
        }
      },
      "outputs": [
        {
          "output_type": "stream",
          "name": "stdout",
          "text": [
            "user: 4          item: 3          r_ui = None   est = 3.87   {'actual_k': 40, 'was_impossible': False}\n"
          ]
        },
        {
          "output_type": "execute_result",
          "data": {
            "text/plain": [
              "Prediction(uid=4, iid=3, r_ui=None, est=3.865175609312417, details={'actual_k': 40, 'was_impossible': False})"
            ]
          },
          "metadata": {},
          "execution_count": 131
        }
      ],
      "source": [
        "#remove _______ and complete the code\n",
        "similarity_algo_optimized_item.predict(4, 3, verbose=True)"
      ]
    },
    {
      "cell_type": "markdown",
      "metadata": {
        "id": "sTKvXHU0wICR"
      },
      "source": [
        "**Write your Answer here:________**"
      ]
    },
    {
      "cell_type": "markdown",
      "metadata": {
        "id": "xquRIW-XwICS"
      },
      "source": [
        "#### Identifying similar users to a given user (nearest neighbors)\n",
        "We can also find out the similar users to a given user or its nearest neighbors based on this KNNBasic algorithm. Below we are finding 5 most similar user to the `userId=4` based on the `msd` distance metric"
      ]
    },
    {
      "cell_type": "code",
      "execution_count": 132,
      "metadata": {
        "id": "b4HbXJv-wICS",
        "outputId": "52c31de1-3f88-4183-d4b1-184c3568552f",
        "colab": {
          "base_uri": "https://localhost:8080/"
        }
      },
      "outputs": [
        {
          "output_type": "execute_result",
          "data": {
            "text/plain": [
              "[77, 85, 115, 119, 127]"
            ]
          },
          "metadata": {},
          "execution_count": 132
        }
      ],
      "source": [
        "#remove _______ and complete the code\n",
        "similarity_algo_optimized_item.get_neighbors(4, k=5)"
      ]
    },
    {
      "cell_type": "markdown",
      "metadata": {
        "id": "PI69gPEdwICZ"
      },
      "source": [
        "#### Predicted top 5 movies for userId=4 with similarity based recommendation system"
      ]
    },
    {
      "cell_type": "code",
      "execution_count": 133,
      "metadata": {
        "id": "RAzdWtCSwICa"
      },
      "outputs": [],
      "source": [
        "#remove _______ and complete the code\n",
        "recommendations = get_recommendations(rating, 4, 5, similarity_algo_optimized_item)"
      ]
    },
    {
      "cell_type": "markdown",
      "metadata": {
        "id": "_cDPuGWcwICb"
      },
      "source": [
        "#### Q 4.5 Predict the top 5 movies for userId=4 with similarity based recommendation system (1 Mark)"
      ]
    },
    {
      "cell_type": "code",
      "execution_count": 134,
      "metadata": {
        "id": "kJICKPecwICb",
        "outputId": "35e96575-b1ac-47f1-cd0d-44c93028ba74",
        "colab": {
          "base_uri": "https://localhost:8080/"
        }
      },
      "outputs": [
        {
          "output_type": "execute_result",
          "data": {
            "text/plain": [
              "[(84, 5), (1040, 5), (2481, 5), (2562, 5), (3078, 5)]"
            ]
          },
          "metadata": {},
          "execution_count": 134
        }
      ],
      "source": [
        "recommendations"
      ]
    },
    {
      "cell_type": "markdown",
      "metadata": {
        "id": "rKgJpSA9vOOL"
      },
      "source": [
        "### Model 4 Collaborative Filtering - Matrix Factorization using SVD (7 marks)"
      ]
    },
    {
      "cell_type": "markdown",
      "metadata": {
        "id": "YF6ZGyqhCAob"
      },
      "source": [
        "Model-based Collaborative Filtering is a **personalized recommendation system**, the recommendations are based on the past behavior of the user and it is not dependent on any additional information. We use **latent features** to find recommendations for each user."
      ]
    },
    {
      "cell_type": "markdown",
      "metadata": {
        "id": "uxGWVpOMvOOL"
      },
      "source": [
        "**Latent Features:** The features that are not present in the empirical data but can be inferred from the data. For example:"
      ]
    },
    {
      "cell_type": "markdown",
      "metadata": {
        "id": "ZfVDC0IuvOOL"
      },
      "source": [
        "![CF3.PNG](data:image/png;base64,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)"
      ]
    },
    {
      "cell_type": "markdown",
      "metadata": {
        "id": "W2TTW8YfvOOL"
      },
      "source": [
        "Now if we notice the above movies closely:"
      ]
    },
    {
      "cell_type": "markdown",
      "metadata": {
        "id": "RDcl6w2WvOOL"
      },
      "source": [
        "![CF4.PNG](data:image/png;base64,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)"
      ]
    },
    {
      "cell_type": "markdown",
      "metadata": {
        "id": "3l7fsZWNvOOL"
      },
      "source": [
        "Here **Action**, **Romance**, **Suspense** and **Comedy** are latent features of the corresponding movies. Similarly, we can compute the latent features for users as shown below:"
      ]
    },
    {
      "cell_type": "markdown",
      "metadata": {
        "id": "0Ad4w7bvvOOL"
      },
      "source": [
        "![CF5.PNG](data:image/png;base64,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)"
      ]
    },
    {
      "cell_type": "markdown",
      "metadata": {
        "id": "n4Otha8ovOOL"
      },
      "source": [
        "#### Singular Value Decomposition (SVD)"
      ]
    },
    {
      "cell_type": "markdown",
      "metadata": {
        "id": "3sGl3QkLvOOL"
      },
      "source": [
        "SVD is used to compute the latent features from the user-item matrix that we already learned earlier. But SVD does not work when we missing values in the user-item matrix."
      ]
    },
    {
      "cell_type": "markdown",
      "metadata": {
        "id": "C80zDC6xvOOL"
      },
      "source": [
        "First we need to convert the below movie-rating dataset:"
      ]
    },
    {
      "cell_type": "markdown",
      "metadata": {
        "id": "xA_MGBrwvOOL"
      },
      "source": [
        "![CF3.PNG](data:image/png;base64,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)"
      ]
    },
    {
      "cell_type": "markdown",
      "metadata": {
        "id": "3q39l4__vOOL"
      },
      "source": [
        "into an user-item matrix as shown below:"
      ]
    },
    {
      "cell_type": "markdown",
      "metadata": {
        "id": "kAz3MNfEvOOL"
      },
      "source": [
        "![CF6.PNG](data:image/png;base64,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)"
      ]
    },
    {
      "cell_type": "markdown",
      "metadata": {
        "id": "6piwQzq3vOOL"
      },
      "source": [
        "We have already done this above while computing cosine similarities."
      ]
    },
    {
      "cell_type": "markdown",
      "metadata": {
        "id": "gOzTLIfIvOOL"
      },
      "source": [
        "**SVD decomposes this above matrix into three separate matrices:**\n",
        "- U matrix\n",
        "- Sigma matrix\n",
        "- V transpose matrix"
      ]
    },
    {
      "cell_type": "markdown",
      "metadata": {
        "id": "IVq1fCrBvOOL"
      },
      "source": [
        "#### U-matrix"
      ]
    },
    {
      "cell_type": "markdown",
      "metadata": {
        "id": "Y9wsChCmvOOL"
      },
      "source": [
        "![CF7.PNG](data:image/png;base64,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)"
      ]
    },
    {
      "cell_type": "markdown",
      "metadata": {
        "id": "hA1dXvYXvOOL"
      },
      "source": [
        "the above matrix is a n x k matrix, where:\n",
        "- n is number of users\n",
        "- k is number of latent features"
      ]
    },
    {
      "cell_type": "markdown",
      "metadata": {
        "id": "dplq-n9dvOOL"
      },
      "source": [
        "#### Sigma-matrix"
      ]
    },
    {
      "cell_type": "markdown",
      "metadata": {
        "id": "kB6jCN5svOOL"
      },
      "source": [
        "![CF8.PNG](data:image/png;base64,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)"
      ]
    },
    {
      "cell_type": "markdown",
      "metadata": {
        "id": "-twhbZ3wvOOL"
      },
      "source": [
        "the above matrix is a k x k matrix, where:\n",
        "- k is number of latent features\n",
        "- Each diagonal entry is the singular value of the original interaction matrix"
      ]
    },
    {
      "cell_type": "markdown",
      "metadata": {
        "id": "nr0dF0XcvOOL"
      },
      "source": [
        "#### V-transpose matrix"
      ]
    },
    {
      "cell_type": "markdown",
      "metadata": {
        "id": "hz82XFEgvOOL"
      },
      "source": [
        "![CF9.PNG](data:image/png;base64,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)"
      ]
    },
    {
      "cell_type": "markdown",
      "metadata": {
        "id": "o9B1119q2N-M"
      },
      "source": [
        "the above matrix is a kxn matrix, where:\n",
        "- k is the number of latent features\n",
        "- n is the number of items"
      ]
    },
    {
      "cell_type": "markdown",
      "metadata": {
        "id": "uOtkUXmAnVNL"
      },
      "source": [
        "### Build a baseline matrix factorization recommendation system"
      ]
    },
    {
      "cell_type": "code",
      "execution_count": 135,
      "metadata": {
        "colab": {
          "base_uri": "https://localhost:8080/"
        },
        "id": "07-2PT5Ssjqm",
        "outputId": "59287ff9-cc58-47c7-dcf6-d5b7e8be5491"
      },
      "outputs": [
        {
          "output_type": "stream",
          "name": "stdout",
          "text": [
            "RMSE: 0.9044\n"
          ]
        },
        {
          "output_type": "execute_result",
          "data": {
            "text/plain": [
              "0.9043886789998428"
            ]
          },
          "metadata": {},
          "execution_count": 135
        }
      ],
      "source": [
        "#remove _______ and complete the code\n",
        "\n",
        "# using SVD matrix factorization\n",
        "algo_svd = SVD()\n",
        "\n",
        "# training the algorithm on the trainset\n",
        "algo_svd.fit(trainset)\n",
        "\n",
        "# predicting ratings for the testset\n",
        "predictions = algo_svd.test(testset)\n",
        "\n",
        "# computing RMSE on the testset\n",
        "accuracy.rmse(predictions)"
      ]
    },
    {
      "cell_type": "markdown",
      "metadata": {
        "id": "2271PkTuwICu"
      },
      "source": [
        "#### Q 5.1 What is the RMSE for baseline SVD based collaborative filtering recommendation system (1 Mark)"
      ]
    },
    {
      "cell_type": "markdown",
      "metadata": {
        "id": "BQ6fTuCDnVNL"
      },
      "source": [
        "**Write your Answer here:___________**"
      ]
    },
    {
      "cell_type": "markdown",
      "metadata": {
        "id": "fsBGQrwCwICv"
      },
      "source": [
        "#### Q 5.2 What is the Predicted  rating for an user with userId =4 and for movieId= 10 and movieId=3? (1 Mark)"
      ]
    },
    {
      "cell_type": "markdown",
      "metadata": {
        "id": "HD2AU1DnnVNM"
      },
      "source": [
        "#### Let's us now predict rating for an user with `userId=4` and for `movieId=10`"
      ]
    },
    {
      "cell_type": "code",
      "execution_count": 136,
      "metadata": {
        "colab": {
          "base_uri": "https://localhost:8080/"
        },
        "id": "yWIhfdxXsjqm",
        "outputId": "be36f997-1022-4edf-ea83-c07e2007cc3d"
      },
      "outputs": [
        {
          "output_type": "stream",
          "name": "stdout",
          "text": [
            "user: 4          item: 10         r_ui = 4.00   est = 4.13   {'was_impossible': False}\n"
          ]
        },
        {
          "output_type": "execute_result",
          "data": {
            "text/plain": [
              "Prediction(uid=4, iid=10, r_ui=4, est=4.13115532067732, details={'was_impossible': False})"
            ]
          },
          "metadata": {},
          "execution_count": 136
        }
      ],
      "source": [
        "#remove _______ and complete the code\n",
        "algo_svd.predict(4, 10, r_ui=4, verbose=True)"
      ]
    },
    {
      "cell_type": "markdown",
      "metadata": {
        "id": "oIjzqDY5nVNM"
      },
      "source": [
        "**Write your Answer here:______**"
      ]
    },
    {
      "cell_type": "markdown",
      "metadata": {
        "id": "I1aYxVeMnVNM"
      },
      "source": [
        "#### Let's predict the rating for the same `userId=4` but for a movie which this user has not interacted before i.e. `movieId=3`:"
      ]
    },
    {
      "cell_type": "code",
      "execution_count": 137,
      "metadata": {
        "colab": {
          "base_uri": "https://localhost:8080/"
        },
        "id": "APm-uMSvcAMf",
        "outputId": "83259c59-1d62-41d5-b952-60dd1d2274f1"
      },
      "outputs": [
        {
          "output_type": "stream",
          "name": "stdout",
          "text": [
            "user: 4          item: 3          r_ui = None   est = 3.56   {'was_impossible': False}\n"
          ]
        },
        {
          "output_type": "execute_result",
          "data": {
            "text/plain": [
              "Prediction(uid=4, iid=3, r_ui=None, est=3.55821122845766, details={'was_impossible': False})"
            ]
          },
          "metadata": {},
          "execution_count": 137
        }
      ],
      "source": [
        "#remove _______ and complete the code\n",
        "algo_svd.predict(4, 3, verbose=True)"
      ]
    },
    {
      "cell_type": "markdown",
      "metadata": {
        "id": "NEL6dy3wnVNM"
      },
      "source": [
        "**Write your Answer here:_____**"
      ]
    },
    {
      "cell_type": "markdown",
      "metadata": {
        "id": "x13Eb9Owvpcw"
      },
      "source": [
        "#### Improving matrix factorization based recommendation system by tuning its hyper-parameters"
      ]
    },
    {
      "cell_type": "markdown",
      "metadata": {
        "id": "qbd3L1d2nVNM"
      },
      "source": [
        "In SVD, rating is predicted as - "
      ]
    },
    {
      "cell_type": "markdown",
      "metadata": {
        "id": "Wp38lmEqnVNM"
      },
      "source": [
        "$$\\hat{r}_{u i}=\\mu+b_{u}+b_{i}+q_{i}^{T} p_{u}$$"
      ]
    },
    {
      "cell_type": "markdown",
      "metadata": {
        "id": "bHVAYuFznVNN"
      },
      "source": [
        "If user $u$ is unknown, then the bias $b_{u}$ and the factors $p_{u}$ are assumed to be zero. The same applies for item $i$ with $b_{i}$ and $q_{i}$."
      ]
    },
    {
      "cell_type": "markdown",
      "metadata": {
        "id": "jCfY5mr7nVNN"
      },
      "source": [
        "To estimate all the unknown, we minimize the following regularized squared error:"
      ]
    },
    {
      "cell_type": "markdown",
      "metadata": {
        "id": "1WyyjmK7nVNN"
      },
      "source": [
        "$$\\sum_{r_{u i} \\in R_{\\text {train }}}\\left(r_{u i}-\\hat{r}_{u i}\\right)^{2}+\\lambda\\left(b_{i}^{2}+b_{u}^{2}+\\left\\|q_{i}\\right\\|^{2}+\\left\\|p_{u}\\right\\|^{2}\\right)$$"
      ]
    },
    {
      "cell_type": "markdown",
      "metadata": {
        "id": "-GBMNL9qnVNN"
      },
      "source": [
        "The minimization is performed by a very straightforward **stochastic gradient descent**:"
      ]
    },
    {
      "cell_type": "markdown",
      "metadata": {
        "id": "CwJJRsJGnVNN"
      },
      "source": [
        "$$\\begin{aligned} b_{u} & \\leftarrow b_{u}+\\gamma\\left(e_{u i}-\\lambda b_{u}\\right) \\\\ b_{i} & \\leftarrow b_{i}+\\gamma\\left(e_{u i}-\\lambda b_{i}\\right) \\\\ p_{u} & \\leftarrow p_{u}+\\gamma\\left(e_{u i} \\cdot q_{i}-\\lambda p_{u}\\right) \\\\ q_{i} & \\leftarrow q_{i}+\\gamma\\left(e_{u i} \\cdot p_{u}-\\lambda q_{i}\\right) \\end{aligned}$$"
      ]
    },
    {
      "cell_type": "markdown",
      "metadata": {
        "id": "nuRjcsUknVNN"
      },
      "source": [
        "There are many hyperparameters to tune in this algorithm, you can find a full list of hyperparameters [here](https://surprise.readthedocs.io/en/stable/matrix_factorization.html#surprise.prediction_algorithms.matrix_factorization.SVD)"
      ]
    },
    {
      "cell_type": "markdown",
      "metadata": {
        "id": "iQcDPhhcnVNN"
      },
      "source": [
        "Below we will be tuning only three hyperparameters -\n",
        "- **n_epochs**: The number of iteration of the SGD algorithm\n",
        "- **lr_all**: The learning rate for all parameters\n",
        "- **reg_all**: The regularization term for all parameters"
      ]
    },
    {
      "cell_type": "markdown",
      "metadata": {
        "id": "ksN4zUnUwIC_"
      },
      "source": [
        "#### Q 5.3 Perform hyperparameter tuning for the baseline SVD based collaborative filtering recommendation system and find the RMSE for tuned SVD based collaborative filtering recommendation system? (3 Marks)"
      ]
    },
    {
      "cell_type": "code",
      "execution_count": 138,
      "metadata": {
        "colab": {
          "base_uri": "https://localhost:8080/"
        },
        "id": "4bM81V_hvtwv",
        "outputId": "0aa9f407-f3b1-47a3-bca8-3cb2bc934367"
      },
      "outputs": [
        {
          "output_type": "stream",
          "name": "stdout",
          "text": [
            "0.8939047122989594\n",
            "{'n_epochs': 30, 'lr_all': 0.01, 'reg_all': 0.2}\n"
          ]
        }
      ],
      "source": [
        "#remove _______ and complete the code\n",
        "\n",
        "# set the parameter space to tune\n",
        "param_grid = {'n_epochs': [10, 20, 30], 'lr_all': [0.001, 0.005, 0.01],\n",
        "              'reg_all': [0.2, 0.4, 0.6]}\n",
        "\n",
        "# performing 3-fold gridsearch cross validation\n",
        "gs = GridSearchCV(SVD, param_grid, measures=['rmse', 'mae'], cv=3, n_jobs=-1)\n",
        "\n",
        "# fitting data\n",
        "gs.fit(data)\n",
        "\n",
        "# best RMSE score\n",
        "print(gs.best_score['rmse'])\n",
        "\n",
        "# combination of parameters that gave the best RMSE score\n",
        "print(gs.best_params['rmse'])"
      ]
    },
    {
      "cell_type": "markdown",
      "metadata": {
        "id": "cjIaWSIAnVNN"
      },
      "source": [
        "Once the grid search is complete, we can get the optimal values for each of those hyperparameters as shown above"
      ]
    },
    {
      "cell_type": "markdown",
      "metadata": {
        "id": "2CfLdGf0nVNN"
      },
      "source": [
        "Below we are analysing evaluation metrics - RMSE and MAE at each and every split to analyze the impact of each value of hyperparameters"
      ]
    },
    {
      "cell_type": "code",
      "execution_count": 139,
      "metadata": {
        "colab": {
          "base_uri": "https://localhost:8080/",
          "height": 617
        },
        "id": "RMb3t3z_vt8W",
        "outputId": "cf6cc508-0347-4584-ac5a-eeec4bafdde7"
      },
      "outputs": [
        {
          "output_type": "execute_result",
          "data": {
            "text/html": [
              "\n",
              "  <div id=\"df-ccd96a4d-b164-4e3d-a8c8-635c7d223c63\">\n",
              "    <div class=\"colab-df-container\">\n",
              "      <div>\n",
              "<style scoped>\n",
              "    .dataframe tbody tr th:only-of-type {\n",
              "        vertical-align: middle;\n",
              "    }\n",
              "\n",
              "    .dataframe tbody tr th {\n",
              "        vertical-align: top;\n",
              "    }\n",
              "\n",
              "    .dataframe thead th {\n",
              "        text-align: right;\n",
              "    }\n",
              "</style>\n",
              "<table border=\"1\" class=\"dataframe\">\n",
              "  <thead>\n",
              "    <tr style=\"text-align: right;\">\n",
              "      <th></th>\n",
              "      <th>split0_test_rmse</th>\n",
              "      <th>split1_test_rmse</th>\n",
              "      <th>split2_test_rmse</th>\n",
              "      <th>mean_test_rmse</th>\n",
              "      <th>std_test_rmse</th>\n",
              "      <th>rank_test_rmse</th>\n",
              "      <th>split0_test_mae</th>\n",
              "      <th>split1_test_mae</th>\n",
              "      <th>split2_test_mae</th>\n",
              "      <th>mean_test_mae</th>\n",
              "      <th>std_test_mae</th>\n",
              "      <th>rank_test_mae</th>\n",
              "      <th>mean_fit_time</th>\n",
              "      <th>std_fit_time</th>\n",
              "      <th>mean_test_time</th>\n",
              "      <th>std_test_time</th>\n",
              "      <th>params</th>\n",
              "      <th>param_n_epochs</th>\n",
              "      <th>param_lr_all</th>\n",
              "      <th>param_reg_all</th>\n",
              "    </tr>\n",
              "  </thead>\n",
              "  <tbody>\n",
              "    <tr>\n",
              "      <th>0</th>\n",
              "      <td>0.946866</td>\n",
              "      <td>0.939464</td>\n",
              "      <td>0.944363</td>\n",
              "      <td>0.943564</td>\n",
              "      <td>0.003074</td>\n",
              "      <td>25</td>\n",
              "      <td>0.741735</td>\n",
              "      <td>0.735478</td>\n",
              "      <td>0.738249</td>\n",
              "      <td>0.738487</td>\n",
              "      <td>0.002560</td>\n",
              "      <td>25</td>\n",
              "      <td>4.178525</td>\n",
              "      <td>0.212761</td>\n",
              "      <td>0.853255</td>\n",
              "      <td>0.024096</td>\n",
              "      <td>{'n_epochs': 10, 'lr_all': 0.001, 'reg_all': 0.2}</td>\n",
              "      <td>10</td>\n",
              "      <td>0.001</td>\n",
              "      <td>0.2</td>\n",
              "    </tr>\n",
              "    <tr>\n",
              "      <th>1</th>\n",
              "      <td>0.950984</td>\n",
              "      <td>0.943164</td>\n",
              "      <td>0.948985</td>\n",
              "      <td>0.947711</td>\n",
              "      <td>0.003317</td>\n",
              "      <td>26</td>\n",
              "      <td>0.746320</td>\n",
              "      <td>0.739939</td>\n",
              "      <td>0.743455</td>\n",
              "      <td>0.743238</td>\n",
              "      <td>0.002609</td>\n",
              "      <td>26</td>\n",
              "      <td>4.262648</td>\n",
              "      <td>0.068516</td>\n",
              "      <td>0.922136</td>\n",
              "      <td>0.043044</td>\n",
              "      <td>{'n_epochs': 10, 'lr_all': 0.001, 'reg_all': 0.4}</td>\n",
              "      <td>10</td>\n",
              "      <td>0.001</td>\n",
              "      <td>0.4</td>\n",
              "    </tr>\n",
              "    <tr>\n",
              "      <th>2</th>\n",
              "      <td>0.956294</td>\n",
              "      <td>0.948379</td>\n",
              "      <td>0.953980</td>\n",
              "      <td>0.952884</td>\n",
              "      <td>0.003323</td>\n",
              "      <td>27</td>\n",
              "      <td>0.752170</td>\n",
              "      <td>0.745819</td>\n",
              "      <td>0.748978</td>\n",
              "      <td>0.748989</td>\n",
              "      <td>0.002593</td>\n",
              "      <td>27</td>\n",
              "      <td>4.383138</td>\n",
              "      <td>0.108479</td>\n",
              "      <td>0.759005</td>\n",
              "      <td>0.062837</td>\n",
              "      <td>{'n_epochs': 10, 'lr_all': 0.001, 'reg_all': 0.6}</td>\n",
              "      <td>10</td>\n",
              "      <td>0.001</td>\n",
              "      <td>0.6</td>\n",
              "    </tr>\n",
              "    <tr>\n",
              "      <th>3</th>\n",
              "      <td>0.910275</td>\n",
              "      <td>0.902743</td>\n",
              "      <td>0.908146</td>\n",
              "      <td>0.907055</td>\n",
              "      <td>0.003170</td>\n",
              "      <td>10</td>\n",
              "      <td>0.705293</td>\n",
              "      <td>0.699341</td>\n",
              "      <td>0.702500</td>\n",
              "      <td>0.702378</td>\n",
              "      <td>0.002431</td>\n",
              "      <td>9</td>\n",
              "      <td>4.344352</td>\n",
              "      <td>0.157018</td>\n",
              "      <td>0.985883</td>\n",
              "      <td>0.065891</td>\n",
              "      <td>{'n_epochs': 10, 'lr_all': 0.005, 'reg_all': 0.2}</td>\n",
              "      <td>10</td>\n",
              "      <td>0.005</td>\n",
              "      <td>0.2</td>\n",
              "    </tr>\n",
              "    <tr>\n",
              "      <th>4</th>\n",
              "      <td>0.917802</td>\n",
              "      <td>0.910046</td>\n",
              "      <td>0.915313</td>\n",
              "      <td>0.914387</td>\n",
              "      <td>0.003233</td>\n",
              "      <td>15</td>\n",
              "      <td>0.713740</td>\n",
              "      <td>0.707064</td>\n",
              "      <td>0.710006</td>\n",
              "      <td>0.710270</td>\n",
              "      <td>0.002732</td>\n",
              "      <td>15</td>\n",
              "      <td>4.253775</td>\n",
              "      <td>0.117084</td>\n",
              "      <td>0.775420</td>\n",
              "      <td>0.054615</td>\n",
              "      <td>{'n_epochs': 10, 'lr_all': 0.005, 'reg_all': 0.4}</td>\n",
              "      <td>10</td>\n",
              "      <td>0.005</td>\n",
              "      <td>0.4</td>\n",
              "    </tr>\n",
              "  </tbody>\n",
              "</table>\n",
              "</div>\n",
              "      <button class=\"colab-df-convert\" onclick=\"convertToInteractive('df-ccd96a4d-b164-4e3d-a8c8-635c7d223c63')\"\n",
              "              title=\"Convert this dataframe to an interactive table.\"\n",
              "              style=\"display:none;\">\n",
              "        \n",
              "  <svg xmlns=\"http://www.w3.org/2000/svg\" height=\"24px\"viewBox=\"0 0 24 24\"\n",
              "       width=\"24px\">\n",
              "    <path d=\"M0 0h24v24H0V0z\" fill=\"none\"/>\n",
              "    <path d=\"M18.56 5.44l.94 2.06.94-2.06 2.06-.94-2.06-.94-.94-2.06-.94 2.06-2.06.94zm-11 1L8.5 8.5l.94-2.06 2.06-.94-2.06-.94L8.5 2.5l-.94 2.06-2.06.94zm10 10l.94 2.06.94-2.06 2.06-.94-2.06-.94-.94-2.06-.94 2.06-2.06.94z\"/><path d=\"M17.41 7.96l-1.37-1.37c-.4-.4-.92-.59-1.43-.59-.52 0-1.04.2-1.43.59L10.3 9.45l-7.72 7.72c-.78.78-.78 2.05 0 2.83L4 21.41c.39.39.9.59 1.41.59.51 0 1.02-.2 1.41-.59l7.78-7.78 2.81-2.81c.8-.78.8-2.07 0-2.86zM5.41 20L4 18.59l7.72-7.72 1.47 1.35L5.41 20z\"/>\n",
              "  </svg>\n",
              "      </button>\n",
              "      \n",
              "  <style>\n",
              "    .colab-df-container {\n",
              "      display:flex;\n",
              "      flex-wrap:wrap;\n",
              "      gap: 12px;\n",
              "    }\n",
              "\n",
              "    .colab-df-convert {\n",
              "      background-color: #E8F0FE;\n",
              "      border: none;\n",
              "      border-radius: 50%;\n",
              "      cursor: pointer;\n",
              "      display: none;\n",
              "      fill: #1967D2;\n",
              "      height: 32px;\n",
              "      padding: 0 0 0 0;\n",
              "      width: 32px;\n",
              "    }\n",
              "\n",
              "    .colab-df-convert:hover {\n",
              "      background-color: #E2EBFA;\n",
              "      box-shadow: 0px 1px 2px rgba(60, 64, 67, 0.3), 0px 1px 3px 1px rgba(60, 64, 67, 0.15);\n",
              "      fill: #174EA6;\n",
              "    }\n",
              "\n",
              "    [theme=dark] .colab-df-convert {\n",
              "      background-color: #3B4455;\n",
              "      fill: #D2E3FC;\n",
              "    }\n",
              "\n",
              "    [theme=dark] .colab-df-convert:hover {\n",
              "      background-color: #434B5C;\n",
              "      box-shadow: 0px 1px 3px 1px rgba(0, 0, 0, 0.15);\n",
              "      filter: drop-shadow(0px 1px 2px rgba(0, 0, 0, 0.3));\n",
              "      fill: #FFFFFF;\n",
              "    }\n",
              "  </style>\n",
              "\n",
              "      <script>\n",
              "        const buttonEl =\n",
              "          document.querySelector('#df-ccd96a4d-b164-4e3d-a8c8-635c7d223c63 button.colab-df-convert');\n",
              "        buttonEl.style.display =\n",
              "          google.colab.kernel.accessAllowed ? 'block' : 'none';\n",
              "\n",
              "        async function convertToInteractive(key) {\n",
              "          const element = document.querySelector('#df-ccd96a4d-b164-4e3d-a8c8-635c7d223c63');\n",
              "          const dataTable =\n",
              "            await google.colab.kernel.invokeFunction('convertToInteractive',\n",
              "                                                     [key], {});\n",
              "          if (!dataTable) return;\n",
              "\n",
              "          const docLinkHtml = 'Like what you see? Visit the ' +\n",
              "            '<a target=\"_blank\" href=https://colab.research.google.com/notebooks/data_table.ipynb>data table notebook</a>'\n",
              "            + ' to learn more about interactive tables.';\n",
              "          element.innerHTML = '';\n",
              "          dataTable['output_type'] = 'display_data';\n",
              "          await google.colab.output.renderOutput(dataTable, element);\n",
              "          const docLink = document.createElement('div');\n",
              "          docLink.innerHTML = docLinkHtml;\n",
              "          element.appendChild(docLink);\n",
              "        }\n",
              "      </script>\n",
              "    </div>\n",
              "  </div>\n",
              "  "
            ],
            "text/plain": [
              "   split0_test_rmse  split1_test_rmse  ...  param_lr_all  param_reg_all\n",
              "0          0.946866          0.939464  ...         0.001            0.2\n",
              "1          0.950984          0.943164  ...         0.001            0.4\n",
              "2          0.956294          0.948379  ...         0.001            0.6\n",
              "3          0.910275          0.902743  ...         0.005            0.2\n",
              "4          0.917802          0.910046  ...         0.005            0.4\n",
              "\n",
              "[5 rows x 20 columns]"
            ]
          },
          "metadata": {},
          "execution_count": 139
        }
      ],
      "source": [
        "results_df = pd.DataFrame.from_dict(gs.cv_results)\n",
        "results_df.head()"
      ]
    },
    {
      "cell_type": "markdown",
      "metadata": {
        "id": "KzY78HsrnVNO"
      },
      "source": [
        "Now we will building final model by using tuned values of the hyperparameters which we received by using grid search cross validation"
      ]
    },
    {
      "cell_type": "code",
      "execution_count": 140,
      "metadata": {
        "colab": {
          "base_uri": "https://localhost:8080/"
        },
        "id": "TA_7xe-nnhuu",
        "outputId": "fca55b56-b72d-4693-b8c5-9146c2840724"
      },
      "outputs": [
        {
          "output_type": "stream",
          "name": "stdout",
          "text": [
            "RMSE: 0.8954\n"
          ]
        },
        {
          "output_type": "execute_result",
          "data": {
            "text/plain": [
              "0.8953918457681015"
            ]
          },
          "metadata": {},
          "execution_count": 140
        }
      ],
      "source": [
        "#remove _______ and complete the code\n",
        "\n",
        "# building the optimized SVD model using optimal hyperparameter search\n",
        "svd_algo_optimized = SVD(n_epochs=30, lr_all=0.01, reg_all=0.2)\n",
        "\n",
        "# training the algorithm on the trainset\n",
        "svd_algo_optimized.fit(trainset)\n",
        "\n",
        "# predicting ratings for the testset\n",
        "predictions = svd_algo_optimized.test(testset)\n",
        "\n",
        "# computing RMSE\n",
        "accuracy.rmse(predictions)"
      ]
    },
    {
      "cell_type": "markdown",
      "metadata": {
        "id": "UruWuDiCwIDE"
      },
      "source": [
        "#### Q 5.4 What is the Predicted rating for an user with userId =4 and for movieId= 10 and movieId=3 using SVD based collaborative filtering? (1 Mark)"
      ]
    },
    {
      "cell_type": "markdown",
      "metadata": {
        "id": "md0-dL56nVNO"
      },
      "source": [
        "**Let's us now predict rating for an user with `userId=4` and for `movieId=10` with the optimized model**"
      ]
    },
    {
      "cell_type": "code",
      "execution_count": 141,
      "metadata": {
        "colab": {
          "base_uri": "https://localhost:8080/"
        },
        "id": "s6C1PAfboM8_",
        "outputId": "31cdf2f0-4cd5-4156-b136-d1e7b3be4d19"
      },
      "outputs": [
        {
          "output_type": "stream",
          "name": "stdout",
          "text": [
            "user: 4          item: 10         r_ui = 4.00   est = 3.99   {'was_impossible': False}\n"
          ]
        },
        {
          "output_type": "execute_result",
          "data": {
            "text/plain": [
              "Prediction(uid=4, iid=10, r_ui=4, est=3.989395682889885, details={'was_impossible': False})"
            ]
          },
          "metadata": {},
          "execution_count": 141
        }
      ],
      "source": [
        "#remove _______ and complete the code\n",
        "\n",
        "svd_algo_optimized.predict(4, 10, r_ui=4, verbose=True)"
      ]
    },
    {
      "cell_type": "markdown",
      "metadata": {
        "id": "VdiEtzEznVNO"
      },
      "source": [
        "**Write your Answer here:_________**"
      ]
    },
    {
      "cell_type": "code",
      "execution_count": 142,
      "metadata": {
        "colab": {
          "base_uri": "https://localhost:8080/"
        },
        "id": "k1xjn3kOoQyg",
        "outputId": "1eb159b0-4beb-4bf7-e167-7d7c68646538"
      },
      "outputs": [
        {
          "output_type": "stream",
          "name": "stdout",
          "text": [
            "user: 4          item: 10         r_ui = None   est = 3.99   {'was_impossible': False}\n"
          ]
        },
        {
          "output_type": "execute_result",
          "data": {
            "text/plain": [
              "Prediction(uid=4, iid=10, r_ui=None, est=3.989395682889885, details={'was_impossible': False})"
            ]
          },
          "metadata": {},
          "execution_count": 142
        }
      ],
      "source": [
        "#remove _______ and complete the code\n",
        "\n",
        "svd_algo_optimized.predict(4, 10, verbose=True)"
      ]
    },
    {
      "cell_type": "markdown",
      "metadata": {
        "id": "5jlUBrbFwIDH"
      },
      "source": [
        "#### Q 5.5 Predict the top 5 movies for userId=4 with SVD based recommendation system (1 Mark)"
      ]
    },
    {
      "cell_type": "code",
      "execution_count": 143,
      "metadata": {
        "colab": {
          "base_uri": "https://localhost:8080/"
        },
        "id": "1LGeE2EB_n90",
        "outputId": "47b4db57-5c95-4676-80c6-cb2c022add0c"
      },
      "outputs": [
        {
          "output_type": "execute_result",
          "data": {
            "text/plain": [
              "[(1192, 4.6745608022732785),\n",
              " (3310, 4.66763086880095),\n",
              " (116, 4.66035852907772),\n",
              " (926, 4.655517441837624)]"
            ]
          },
          "metadata": {},
          "execution_count": 143
        }
      ],
      "source": [
        "#remove _______ and complete the code\n",
        "\n",
        "get_recommendations(rating, 5, 4, svd_algo_optimized)"
      ]
    },
    {
      "cell_type": "markdown",
      "metadata": {
        "id": "xgKmqss1vqGz"
      },
      "source": [
        "### Predicting ratings for already interacted movies"
      ]
    },
    {
      "cell_type": "markdown",
      "metadata": {
        "id": "nNlUEB13wIDJ"
      },
      "source": [
        "Below we are comparing the rating predictions of users for those movies which has been already watched by an user. This will help us to understand how well are predictions are as compared to the actual ratings provided by users"
      ]
    },
    {
      "cell_type": "code",
      "execution_count": 144,
      "metadata": {
        "id": "hQIPHA7-vg7W"
      },
      "outputs": [],
      "source": [
        "def predict_already_interacted_ratings(data, user_id, algo):\n",
        "    \n",
        "    # creating an empty list to store the recommended movie ids\n",
        "    recommendations = []\n",
        "    \n",
        "    # creating an user item interactions matrix \n",
        "    user_item_interactions_matrix = data.pivot(index='userId', columns='movieId', values='rating')\n",
        "    \n",
        "    # extracting those movie ids which the user_id has interacted already\n",
        "    interacted_movies = user_item_interactions_matrix.loc[user_id][user_item_interactions_matrix.loc[user_id].notnull()].index.tolist()\n",
        "    \n",
        "    # looping through each of the movie id which user_id has interacted already\n",
        "    for item_id in interacted_movies:\n",
        "        \n",
        "        # extracting actual ratings\n",
        "        actual_rating = user_item_interactions_matrix.loc[user_id, item_id]\n",
        "        \n",
        "        # predicting the ratings for those non interacted movie ids by this user\n",
        "        predicted_rating = algo.predict(user_id, item_id).est\n",
        "        \n",
        "        # appending the predicted ratings\n",
        "        recommendations.append((item_id, actual_rating, predicted_rating))\n",
        "\n",
        "    # sorting the predicted ratings in descending order\n",
        "    recommendations.sort(key=lambda x: x[1], reverse=True)\n",
        "\n",
        "    return pd.DataFrame(recommendations, columns=['movieId', 'actual_rating', 'predicted_rating']) # returing top n highest predicted rating movies for this user"
      ]
    },
    {
      "cell_type": "markdown",
      "metadata": {
        "id": "5T0q833lwIDK"
      },
      "source": [
        "Here we are comparing the predicted ratings by `similarity based recommendation` system against actual ratings for `userId=7`"
      ]
    },
    {
      "cell_type": "code",
      "execution_count": 145,
      "metadata": {
        "colab": {
          "base_uri": "https://localhost:8080/",
          "height": 369
        },
        "id": "IWQvGj-vyWj3",
        "outputId": "146cdc0b-46c5-4788-9a45-a1043c967d11"
      },
      "outputs": [
        {
          "output_type": "display_data",
          "data": {
            "image/png": "[encoded data removed]",
            "text/plain": [
              "<Figure size 478.125x360 with 1 Axes>"
            ]
          },
          "metadata": {
            "needs_background": "light"
          }
        }
      ],
      "source": [
        "predicted_ratings_for_interacted_movies = predict_already_interacted_ratings(rating, 7, similarity_algo_optimized_item)\n",
        "df = predicted_ratings_for_interacted_movies.melt(id_vars='movieId', value_vars=['actual_rating', 'predicted_rating'])\n",
        "sns.displot(data=df, x='value', hue='variable', kde=True);"
      ]
    },
    {
      "cell_type": "markdown",
      "metadata": {
        "id": "Yt9XGhb4wIDM"
      },
      "source": [
        "**Write your Answer here:**\n",
        "- We can see that distribution of predicted ratings is closely following the distribution of actual ratings. The total bins for predicted ratings is higher as compared to total bins for actual ratings.\n",
        "- This is expected, as actual ratings always have discreet values like 1, 2, 3, 4, 5, but predicted ratings can have continuous values as we are taking aggregated ratings from the nearest neighbors of a given user. But over the predictions looks good as compared to the distribution of actual ratings."
      ]
    },
    {
      "cell_type": "markdown",
      "metadata": {
        "id": "jfNXSEw9wIDM"
      },
      "source": [
        "Below we are comparing the predicted ratings by `matrix factorization based recommendation` system against actual ratings for `userId=7`"
      ]
    },
    {
      "cell_type": "code",
      "execution_count": 146,
      "metadata": {
        "colab": {
          "base_uri": "https://localhost:8080/",
          "height": 369
        },
        "id": "6lYjMDhU0xuQ",
        "outputId": "b73076c3-8d00-44e3-b45b-e3b66de07ccf"
      },
      "outputs": [
        {
          "output_type": "display_data",
          "data": {
            "image/png": "[encoded data removed]",
            "text/plain": [
              "<Figure size 478.125x360 with 1 Axes>"
            ]
          },
          "metadata": {
            "needs_background": "light"
          }
        }
      ],
      "source": [
        "predicted_ratings_for_interacted_movies = predict_already_interacted_ratings(rating, 7, svd_algo_optimized)\n",
        "df = predicted_ratings_for_interacted_movies.melt(id_vars='movieId', value_vars=['actual_rating', 'predicted_rating'])\n",
        "sns.displot(data=df, x='value', hue='variable', kde=True);"
      ]
    },
    {
      "cell_type": "code",
      "execution_count": 147,
      "metadata": {
        "id": "aT0zASb-wIDO"
      },
      "outputs": [],
      "source": [
        "# instantiating Reader scale with expected rating scale\n",
        "reader = Reader(rating_scale=(0, 5))\n",
        "\n",
        "# loading the rating dataset\n",
        "data = Dataset.load_from_df(rating[['userId', 'movieId', 'rating']], reader)\n",
        "\n",
        "# splitting the data into train and test dataset\n",
        "trainset, testset = train_test_split(data, test_size=0.2, random_state=42)"
      ]
    },
    {
      "cell_type": "markdown",
      "metadata": {
        "id": "kGbfBUnawIDO"
      },
      "source": [
        "## Precision and Recall @ k\n",
        "\n",
        "RMSE is not the only metric we can use here. We can also examine two fundamental measures, precision and recall. We also add a parameter k which is helpful in understanding problems with multiple rating outputs.\n",
        "\n",
        "See the Precision and Recall @ k section of your notebook and follow the instructions to compute various precision/recall values at various values of k.\n",
        "\n",
        "To know more about precision recall in Recommendation systems refer to these links : \n",
        "\n",
        "https://surprise.readthedocs.io/en/stable/FAQ.html\n",
        "\n",
        "https://medium.com/@m_n_malaeb/recall-and-precision-at-k-for-recommender-systems-618483226c54"
      ]
    },
    {
      "cell_type": "markdown",
      "metadata": {
        "id": "b_norGWOwIDP"
      },
      "source": [
        "### Question6: Compute the precision and recall, for each of the 4 models, at k = 5 and 10. This is 2 x 2 x 4 = 16 numerical values. Do you note anything interesting about these values? (4 marks)"
      ]
    },
    {
      "cell_type": "code",
      "execution_count": 148,
      "metadata": {
        "id": "gihoUY5uwIDQ",
        "scrolled": false
      },
      "outputs": [],
      "source": [
        "#function can be found on surprise documentation FAQs\n",
        "def precision_recall_at_k(predictions, k=10, threshold=3.5):\n",
        "    \"\"\"Return precision and recall at k metrics for each user\"\"\"\n",
        "\n",
        "    # First map the predictions to each user.\n",
        "    user_est_true = defaultdict(list)\n",
        "    for uid, _, true_r, est, _ in predictions:\n",
        "        user_est_true[uid].append((est, true_r))\n",
        "\n",
        "    precisions = dict()\n",
        "    recalls = dict()\n",
        "    for uid, user_ratings in user_est_true.items():\n",
        "\n",
        "        # Sort user ratings by estimated value\n",
        "        user_ratings.sort(key=lambda x: x[0], reverse=True)\n",
        "\n",
        "        # Number of relevant items\n",
        "        n_rel = sum((true_r >= threshold) for (_, true_r) in user_ratings)\n",
        "\n",
        "        # Number of recommended items in top k\n",
        "        n_rec_k = sum((est >= threshold) for (est, _) in user_ratings[:k])\n",
        "\n",
        "        # Number of relevant and recommended items in top k\n",
        "        n_rel_and_rec_k = sum(((true_r >= threshold) and (est >= threshold))\n",
        "                              for (est, true_r) in user_ratings[:k])\n",
        "\n",
        "        # Precision@K: Proportion of recommended items that are relevant\n",
        "        # When n_rec_k is 0, Precision is undefined. We here set it to 0.\n",
        "\n",
        "        precisions[uid] = n_rel_and_rec_k / n_rec_k if n_rec_k != 0 else 0\n",
        "\n",
        "        # Recall@K: Proportion of relevant items that are recommended\n",
        "        # When n_rel is 0, Recall is undefined. We here set it to 0.\n",
        "\n",
        "        recalls[uid] = n_rel_and_rec_k / n_rel if n_rel != 0 else 0\n",
        "\n",
        "    return precisions, recalls\n",
        "\n"
      ]
    },
    {
      "cell_type": "code",
      "execution_count": 150,
      "metadata": {
        "colab": {
          "base_uri": "https://localhost:8080/"
        },
        "id": "qAG1BBIMxQRU",
        "outputId": "f4e44a23-10ca-45ad-ec36-4c23e2309ed1"
      },
      "outputs": [
        {
          "output_type": "stream",
          "name": "stdout",
          "text": [
            "> k=5, model=KNNBasic\n",
            "-----> Precision:  0.769\n",
            "-----> Recall:  0.414\n",
            "> k=5, model=SVD\n",
            "-----> Precision:  0.747\n",
            "-----> Recall:  0.388\n",
            "> k=5, model=KNNBasic\n",
            "-----> Precision:  0.611\n",
            "-----> Recall:  0.327\n",
            "> k=5, model=KNNBasic\n",
            "-----> Precision:  0.677\n",
            "-----> Recall:  0.352\n",
            "> k=5, model=SVD\n",
            "-----> Precision:  0.753\n",
            "-----> Recall:  0.384\n",
            "> k=5, model=SVD\n",
            "-----> Precision:  0.747\n",
            "-----> Recall:  0.384\n",
            "> k=10, model=KNNBasic\n",
            "-----> Precision:  0.753\n",
            "-----> Recall:  0.549\n",
            "> k=10, model=SVD\n",
            "-----> Precision:  0.728\n",
            "-----> Recall:  0.52\n",
            "> k=10, model=KNNBasic\n",
            "-----> Precision:  0.596\n",
            "-----> Recall:  0.472\n",
            "> k=10, model=KNNBasic\n",
            "-----> Precision:  0.657\n",
            "-----> Recall:  0.5\n",
            "> k=10, model=SVD\n",
            "-----> Precision:  0.734\n",
            "-----> Recall:  0.515\n",
            "> k=10, model=SVD\n",
            "-----> Precision:  0.73\n",
            "-----> Recall:  0.524\n"
          ]
        }
      ],
      "source": [
        "#A basic cross-validation iterator.\n",
        "kf = KFold(n_splits=5)\n",
        "\n",
        "# Make list of k values\n",
        "K = [5, 10]\n",
        "\n",
        "#remove _______ and complete the code\n",
        "# Make list of models\n",
        "models = [algo_knn_user, svd_algo_optimized, algo_knn_item,similarity_algo_optimized_item, algo_svd, svd_algo_optimized]\n",
        "\n",
        "for k in K:\n",
        "    for model in models:\n",
        "        print('> k={}, model={}'.format(k,model.__class__.__name__))\n",
        "        p = []\n",
        "        r = []\n",
        "        for trainset, testset in kf.split(data):\n",
        "            model.fit(trainset)\n",
        "            predictions = model.test(testset, verbose=False)\n",
        "            precisions, recalls = precision_recall_at_k(predictions, k=k, threshold=3.5)\n",
        "\n",
        "            # Precision and recall can then be averaged over all users\n",
        "            p.append(sum(prec for prec in precisions.values()) / len(precisions))\n",
        "            r.append(sum(rec for rec in recalls.values()) / len(recalls))\n",
        "        \n",
        "        print('-----> Precision: ', round(sum(p) / len(p), 3))\n",
        "        print('-----> Recall: ', round(sum(r) / len(r), 3))"
      ]
    },
    {
      "cell_type": "markdown",
      "metadata": {
        "id": "h_6zpwwfwIDR"
      },
      "source": [
        "### Question 7 ( 5 Marks)\n",
        "#### 7.1 Compare the results from the base line user-user and item-item based models.\n",
        "#### 7.2 How do these baseline models compare to each other with respect to the tuned user-user and item-item models?\n",
        "#### 7.3 The matrix factorization model is different from the collaborative filtering models. Briefly describe this difference. Also, compare the RMSE and precision recall for the models.\n",
        "#### 7.4 Does it improve? Can you offer any reasoning as to why that might be?"
      ]
    },
    {
      "cell_type": "markdown",
      "metadata": {
        "id": "2W0MdIZ1wIDS"
      },
      "source": [
        "**Write your Answer here:_________________**"
      ]
    },
    {
      "cell_type": "markdown",
      "metadata": {
        "id": "TgDOPCXOvOOM"
      },
      "source": [
        "### Conclusions"
      ]
    },
    {
      "cell_type": "markdown",
      "metadata": {
        "id": "WJ4L2PwQvOOM"
      },
      "source": [
        "In this case study, we saw three different ways of building recommendation systems: \n",
        "- rank-based using averages\n",
        "- similarity-based collaborative filtering\n",
        "- model-based (matrix factorization) collaborative filtering"
      ]
    },
    {
      "cell_type": "markdown",
      "metadata": {
        "id": "4XP9B9bVvOOM"
      },
      "source": [
        "We also understood advantages/disadvantages of these recommendation systems and when to use which kind of recommendation systems. Once we build these recommendation systems, we can use **A/B Testing** to measure the effectiveness of these systems."
      ]
    },
    {
      "cell_type": "markdown",
      "metadata": {
        "id": "fAQfeVYLvOOM"
      },
      "source": [
        "Here is an article explaining how [Amazon use **A/B Testing**](https://aws.amazon.com/blogs/machine-learning/using-a-b-testing-to-measure-the-efficacy-of-recommendations-generated-by-amazon-personalize/) to measure effectiveness of its recommendation systems."
      ]
    }
  ],
  "metadata": {
    "colab": {
      "collapsed_sections": [
        "9hczXgBkvOOG",
        "ewHMWerQ2N9T",
        "fBZYy0HavOOH",
        "UOBD03d9vOOH",
        "mR9tzSzTvOOH",
        "JQgjqRnevOOI",
        "0kXJ_iTEvOOI",
        "lHReghdivOOI",
        "hkz4LlTpvOOK",
        "KRFTrsBVvOOK"
      ],
      "name": "Project_Movie_Recommendation_Learners_Notebook.ipynb",
      "provenance": []
    },
    "kernelspec": {
      "display_name": "Python 3 (ipykernel)",
      "language": "python",
      "name": "python3"
    },
    "language_info": {
      "codemirror_mode": {
        "name": "ipython",
        "version": 3
      },
      "file_extension": ".py",
      "mimetype": "text/x-python",
      "name": "python",
      "nbconvert_exporter": "python",
      "pygments_lexer": "ipython3",
      "version": "3.9.7"
    }
  },
  "nbformat": 4,
  "nbformat_minor": 0
}